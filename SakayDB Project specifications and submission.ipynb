{
 "cells": [
  {
   "cell_type": "markdown",
   "metadata": {
    "deletable": false,
    "editable": false,
    "nbgrader": {
     "cell_type": "markdown",
     "checksum": "a64abdfa0b6240c3f530dffd456b8880",
     "grade": false,
     "grade_id": "cell-432afb8168a38832",
     "locked": true,
     "schema_version": 3,
     "solution": false
    }
   },
   "source": [
    "# Project Instructions\n",
    "\n",
    "Your project is to create a module named `sakaydb` for managing ride-hailing data. This is to be done by LT. Your code should be commited on a private repo in GitHub with repo name `sakaydb` then submit this notebook via the `Assignments` tab of `nbgrader`. The project is due on September 7, 2022, 11:59PM. Only one member of the LT should submit---there will be a penalty for submissions from multiple members of an LT. The module should be at the top-level directory of this repo. Grant read access to this repo to Damian Dailisan and Michael Dorosan (GH account `temetski` and `mikedataCrunch`). **Do not write your code on this notebook nor submit it along with this notebook**. Just specify your repo url in the cell below.\n",
    "\n",
    "Only the following packages may be used for the implementation:\n",
    "\n",
    "* Python standard libraries\n",
    "* Numpy (but not scipy)\n",
    "* Pandas\n",
    "* Matplotlib\n",
    "\n",
    "\n",
    "## The `SakayDB` class\n",
    "\n",
    "The module should contain one class named `SakayDB`. It should have the following specifications:\n",
    "\n",
    "### Initialization\n",
    "\n",
    "The class initializer should accept a string `data_dir` which is the directory path to where the data files are located. This path should be stored in the `data_dir` attribute of the object.\n",
    "\n",
    "### Data persistence\n",
    "\n",
    "Data are stored in the CSV files `trips.csv`, `drivers.csv`, and `locations.csv` in `data_dir`. The CSV files begin with a column header and the columns of each CSV file are:\n",
    "\n",
    "`trips.csv`:\n",
    "  - `trip_id`: an integer assigned to trip\n",
    "  - `driver_id`: an integer assigned to the driver\n",
    "  - `pickup_datetime`: datetime of dropoff as string with format \"hh:mm:ss,DD-MM-YYYY\"\n",
    "  - `dropoff_datetime`: datetime of dropoff as string with format \"hh:mm:ss,DD-MM-YYYY\"\n",
    "  - `passenger_count`: number of passengers as integer\n",
    "  - `pickup_loc_id`: an integer assinged to to the pickup location\n",
    "  - `dropoff_loc_id`: an integer assinged to to the dropoff location\n",
    "  - `trip_distance`: distance in meters as float\n",
    "  - `fare_amount`: total fare amount as float\n",
    "\n",
    "`drivers.csv`:\n",
    "  - `driver_id`: an integer assigned to the driver\n",
    "  - `last_name`: last name of driver\n",
    "  - `given_name`: given name of driver\n",
    "  \n",
    "`locations.csv`:\n",
    " - `location_id`: an integer assigned to the location\n",
    " - `loc_name`: zone location name\n",
    "\n",
    "### Exception\n",
    "\n",
    "The class has the associated exception `SakayDBError` which is a `ValueError`.\n",
    "\n",
    "\n",
    "### Features\n",
    "\n",
    "#### Adding a single trip to the database\n",
    "\n",
    "Create a method `add_trip` that accepts the following parameters:\n",
    "\n",
    "  - `driver`: trip driver as a string in `Last name, Given name` format\n",
    "  - `pickup_datetime`: datetime of pickup as string with format \"hh:mm:ss,DD-MM-YYYY\"\n",
    "  - `dropoff_datetime`: datetime of dropoff as string with format \"hh:mm:ss,DD-MM-YYYY\"\n",
    "  - `passenger_count`: number of passengers as integer\n",
    "  - `pickup_loc_name`: zone as a string, (e.g., Pine View, Legazpi Village)\n",
    "  - `dropoff_loc_name`: zone as a string, (e.g., Pine View, Legazpi Village)\n",
    "  - `trip_distance`: distance in meters (float)\n",
    "  - `fare_amount`: amount paid by passenger (float)\n",
    "  \n",
    "The method should append the trip data to the end of `trips.csv`, if it exists, or creates it, otherwise. \n",
    "  \n",
    "The `trip_id` is _last_ `trip_id` _in the file_ + 1, or `1` if there's no trip in the file yet. \n",
    "  \n",
    "The `driver` should have a corresponding `driver_id` in `drivers.csv` based on the case-insensitive matches of `given_name` and `last_name` from the `driver` column of `trips.csv`.\n",
    "\n",
    "It should append the driver in `drivers.csv` if the driver is not yet there. \n",
    "\n",
    "The `driver_id` of a new driver is _last `driver_id` in the file_ + 1, or `1` if there's no driver in the file yet.\n",
    "The method should return the `trip_id` or raise a `SakayDBError` exception if the trip is already in `trips.csv`.\n",
    "\n",
    "The same instructions above applies for `pickup_loc_name` and `dropoff_loc_name`and its corresponding `location_id` in `locations.csv`.\n",
    "\n",
    "A trip is said to be in `trips.csv` if there is a trip that matches the `driver` (case-insensitive), `pickup_datetime`, `dropoff_datetime`, `passenger_count`, `pickup_loc_name`, `dropoff_loc_name`, `trip_distance` and `fare_amount`.\n",
    "\n",
    "#### Adding trips in the database\n",
    "\n",
    "Create a method `add_trips` that accepts a list of trips in the form of dictionaries with the following keys:\n",
    "  - `driver`: trip driver as a string in `Last name, Given name` format\n",
    "  - `pickup_datetime`: datetime of pickup as string with format \"hh:mm:ss,DD-MM-YYYY\"\n",
    "  - `dropoff_datetime`: datetime of dropoff as string with format \"hh:mm:ss,DD-MM-YYYY\"\n",
    "  - `passenger_count`: number of passengers as integer\n",
    "  - `pickup_loc_name`: zone as a string, (e.g., Pine View, Legazpi Village)\n",
    "  - `dropoff_loc_name`: zone as a string, (e.g., Pine View, Legazpi Village)\n",
    "  - `trip_distance`: distance in meters (float)\n",
    "  - `fare_amount`: amount paid by passenger (float)\n",
    "  \n",
    "The method should add each trip to the database. \n",
    "It returns a list of the `trip_ids`s of successfully added trips. If a trip is already in the database, skip it and print: `Warning: trip index {i} is already in the database. Skipping...`\n",
    "\n",
    "If a trip has invalid or incomplete information, skip it and print `Warning: trip index {i} has invalid or incomplete information. Skipping...` instead. The *trip index* is the zero-based index of the trip in the passed list of trips.\n",
    "  \n",
    "#### Deleting a trip in the database\n",
    "\n",
    "Create a method `delete_trip` that accepts the `trip_id` to delete then removes it from `trips.csv`.\n",
    "It will raise a `SakayDBError` if the `trip_id` is not found.\n",
    "  \n",
    "#### Searching for trips in the database\n",
    "\n",
    "Create a method `search_trips` that accepts the following keyword arguments:\n",
    "  - `key`: string, can be any of the ff: `driver_id`, `pickup_datetime`, `dropoff_datetime`, `passenger_count`, `trip_distance`, `fare_amount`. \n",
    "For each of the valid keyword arguments, the values passed may be of the following types:\n",
    "  - `exact` : for single value search. Some *value* with data type and format conforming to that of `key`\n",
    "  - `range` : for range search\n",
    "      - Case 1: tuple like (*value*, `None`) sorts by `key` (chronological or ascending) returns all entries from *value*, begin inclusive\n",
    "      - Case 2: tuple like (`None`,*value*) sorts by `key` (chronological or ascending) returns all entries up to *value*, end inclusive\n",
    "      - Case 3: tuple like (*value1*, *value2*) sorts by `key` and returns values between *value1* and *value2*, end inclusive.\n",
    "\n",
    "This method should raise a `SakayDBError` when the following are not satisfied:\n",
    "* Invalid keyword `key` i.e. not in listed keys above\n",
    "* Invalid values for `range` i.e. tuples with sizes greater than 2, or either *values1* or *value2* is not parsable as a datetime object.\n",
    "<!-- * When either *value1* or *value2* is beyond the datetime range available in the database in any of Cases 1 to 3 for `range` -->\n",
    "<!-- * Invalid input to `exact` i.e. data type or format not algined with values in `key`\n",
    " -->\n",
    " \n",
    "The method should return a `pd.DataFrame` of all the entries aligned with search key and values.\n",
    "\n",
    "#### Exporting data\n",
    "\n",
    "Create a method `export_data` that returns all of the trips in the database as a pandas data frame with the following columns:\n",
    "  - `driver_lastname`: trip driver last name as string, capitalize first letter of each word in lastname\n",
    "  - `driver_givenname` : trip driver last name as string, capitalize first letter of each word in lastname\n",
    "  - `pickup_datetime`: datetime of pickup as string with format \"hh:mm:ss,DD-MM-YYYY\"\n",
    "  - `dropoff_datetime`: datetime of dropoff as string with format \"hh:mm:ss,DD-MM-YYYY\"\n",
    "  - `passenger_count`: number of passengers as integer\n",
    "  - `pickup_loc_name`: zone as a string, (e.g., Pine View, Legazpi Village)\n",
    "  - `dropoff_loc_name`: zone as a string, (e.g., Pine View, Legazpi Village)\n",
    "  - `trip_distance`: distance in meters (float)\n",
    "  - `fare_amount`: id of the trip's director\n",
    "  \n",
    "Sort the rows by the corresponding `trip_id` of each trip.\n",
    "  \n",
    "#### Generating statistics\n",
    "\n",
    "Create a method `generate_statistics` that returns a dictionary depending on the `stat` parameter passed to it:\n",
    "  - `trip`: key is day name (e.g., Monday), value is the average number of trips with pick-ups for that day name in the entire dataset\n",
    "  - `passenger`: key is each unique `passenger_count`, value is another dictionary with day name (e.g., `Monday`) as key, and value is the average number of trips with pick-ups for that day name in the entire dataset\n",
    "  - `driver`: key is driver name following the format `Last name, Given name`, value is another dictionary with day name as key and average number of trips of that driver for that day name as value\n",
    "  - `all`: keys are `trip`, `passenger` and `driver`, values are the corresponding `stat` dictionaries returned by those keywords\n",
    "\n",
    "The `stat` values are case-sensitive and the method should raise `SakayDBError` if the passed `stat` is unknown.\n",
    "\n",
    "#### Plotting statistics\n",
    "\n",
    "Create a method `plot_statistics` that returns a matplotlib `Axes` depending on the `stat` parameter passed to it:\n",
    "  - `trip`: bar plot of the average number of trips per day of week (e.g., Monday, Tuesday, etc). Consider the following plot specs:\n",
    "      - `figsize` : (12,8)\n",
    "      - `title` : 'Average trips per day'\n",
    "      - `ylabel` and `xlabel` are 'Ave Trips' and 'Day of week' respectively\n",
    "      - `Day of week` is sorted from Monday to Sunday.\n",
    " \n",
    "  - `passenger`: a line plot with marker 'o' showing average passenger count per day. Each line represents a passenger count (e.g., 0, 1, 2, 3). Consider the following plot specs:\n",
    "      - `figsize` : (12,8)\n",
    "      - No title\n",
    "      - `ylabel` and `xlabel` are 'Ave Trips' and 'Day of week' respectively\n",
    "      - `legend` must indicate which line corresponds to a particular passenger count and must be labeled accordingly.\n",
    "      \n",
    "  - `driver`: In a 7x1 grid, plot the drivers with the top average trips per day as a horizontal bar plot. Each subplot must correspond to a day (e.g., Monday, etc). Consider the following:\n",
    "      - `figsize` : (8,25)\n",
    "      - Plot only the top 5 drivers.\n",
    "      - No titles, but the day of week must be indicated as a legend handle for each subplot.\n",
    "      - The x-axis (Ave Trips) must be shared by all plots (i.e., only labeled in the bottom subplot, tick locations consistent across all subplots).\n",
    "      - No `ylabel` but y-tick labels must indicate the driver's name sorted first by decreasing average trip count then alphabetically.\n",
    "\n",
    "Please be guided by the visible asserts on other considerations not explicity mentioned here.\n",
    "\n",
    "The `stat` values are case-sensitive and the method should raise `SakayDBError` if the passed `stat` is unknown.\n",
    "\n",
    "#### Generate Origin-Destination Matrix\n",
    "\n",
    "Create a method `generate_odmatrix` that takes in a `date_range` input parameter and returns a `pandas.DataFrame` with the `trips.csv` `pickup_loc_name` as the row names (dataframe index) and `dropoff_loc_name` as the columns. The values for each row-column combination is the average daily number of trips that occured within the `date_range` specified.\n",
    "\n",
    "  - `date_range` : takes a tuple of datetime strings, and filters trips based on `pickup_datetime`. Defaults to `None`, in which case all dates are included.\n",
    "      - Case 1: tuple like (*value*, `None`) sorts by `key` (chronological or ascending) returns all entries from *value*, begin inclusive\n",
    "      - Case 2: tuple like (`None`,*value*) sorts by `key` (chronological or ascending) returns all entries up to *value*, end inclusive\n",
    "      - Case 3: tuple like (*value1*, *value2*) sorts by `key` and returns values between *value1* and *value2*, end inclusive.\n",
    "      \n",
    "Input errors to the `date_range` parameter should be handled like that of `search_trips`.\n",
    "\n",
    "\n",
    "\n",
    "## Grading guide [Still To Change]\n",
    "\n",
    "* The project has a highest possible score of 150 points.\n",
    "\n",
    "* Each cell with an assert statement is worth 10 pts. Successfully passing all of the tests in a cell will earn you the entire 10 pts. Failure to pass any of the test in the cell, including hidden tests, will earn no point. No partial points will be given thus make sure that you run and pass all the visible tests in the test suite before submitting.\n",
    "\n",
    "* Successful git cloning is worth 15 pts. Successful importing of the module is worth 5 pts. \n",
    "\n",
    "* If the module fails to clone or import, the professor will attempt to make it work but will merit additional deductions up to 10% of highest possible score.\n",
    "\n",
    "* Methods should have a sensible docstring. The professor will deduct up to a total of 15 pts for missing, misleading or nonsensible docstrings. If you reasonably follow the numpy docstring format then you will likely not receive any deductions.\n",
    "\n",
    "* The code should follow PEP8. The professor will run your python codes through [pycodestyle](https://pypi.org/project/pycodestyle/) and will deduct a point up to a total of 15 points for every instance of PEP8 violation (including warning)."
   ]
  },
  {
   "cell_type": "code",
   "execution_count": null,
   "metadata": {
    "ExecuteTime": {
     "end_time": "2021-06-15T10:25:57.366169Z",
     "start_time": "2021-06-15T10:25:57.357625Z"
    },
    "deletable": false,
    "nbgrader": {
     "cell_type": "code",
     "checksum": "c5ae3c8358b24a2e85737dc8d439276c",
     "grade": false,
     "grade_id": "cell-e1c94f48f04dfcc9",
     "locked": false,
     "schema_version": 3,
     "solution": true
    }
   },
   "outputs": [],
   "source": [
    "# THIS IS THE ONLY CELL THAT YOU WILL MODIFY IN THIS NOTEBOOK.\n",
    "# Store the SSH clone URL for your `sakaydb` repo as a string\n",
    "git_repo_url = ''\n",
    "# YOUR CODE HERE\n",
    "raise NotImplementedError()"
   ]
  },
  {
   "cell_type": "markdown",
   "metadata": {
    "deletable": false,
    "editable": false,
    "nbgrader": {
     "cell_type": "markdown",
     "checksum": "2befdb900150e233265eb0f49c281fcb",
     "grade": false,
     "grade_id": "cell-f1044aa3a51533a9",
     "locked": true,
     "schema_version": 3,
     "solution": false,
     "task": false
    }
   },
   "source": [
    "# Automated tests"
   ]
  },
  {
   "cell_type": "markdown",
   "metadata": {
    "deletable": false,
    "editable": false,
    "nbgrader": {
     "cell_type": "markdown",
     "checksum": "b700c9202c1c40a40e7e9004a5b4c364",
     "grade": false,
     "grade_id": "cell-340d05d6793049aa",
     "locked": true,
     "schema_version": 3,
     "solution": false,
     "task": false
    }
   },
   "source": [
    "## Cloning"
   ]
  },
  {
   "cell_type": "code",
   "execution_count": null,
   "metadata": {
    "ExecuteTime": {
     "end_time": "2021-06-15T10:25:57.939246Z",
     "start_time": "2021-06-15T10:25:57.370155Z"
    },
    "deletable": false,
    "editable": false,
    "nbgrader": {
     "cell_type": "code",
     "checksum": "ed9a2e4b19e7d96985f070e3a9e2a483",
     "grade": false,
     "grade_id": "cell-1c558def51c241bb",
     "locked": true,
     "schema_version": 3,
     "solution": false
    }
   },
   "outputs": [],
   "source": [
    "import pickle\n",
    "import shutil\n",
    "import os\n",
    "import pandas as pd\n",
    "from tempfile import TemporaryDirectory\n",
    "from numpy.testing import (assert_equal, assert_almost_equal,\n",
    "                           assert_raises, assert_allclose)"
   ]
  },
  {
   "cell_type": "code",
   "execution_count": null,
   "metadata": {
    "ExecuteTime": {
     "end_time": "2021-06-15T10:26:02.307174Z",
     "start_time": "2021-06-15T10:25:57.940826Z"
    },
    "deletable": false,
    "editable": false,
    "nbgrader": {
     "cell_type": "code",
     "checksum": "4e6c3c1bb51fcf8ff9942c3b377db777",
     "grade": true,
     "grade_id": "cell-138a4a73e2b34b95",
     "locked": true,
     "points": 15,
     "schema_version": 3,
     "solution": false,
     "task": false
    }
   },
   "outputs": [],
   "source": [
    "#### Test clone and pip install\n",
    "# The tests here will run `git clone {git_repo_url} sakaydb` then copy all\n",
    "# of the repo contents back to the directory where this notebook is"
   ]
  },
  {
   "cell_type": "markdown",
   "metadata": {
    "deletable": false,
    "editable": false,
    "nbgrader": {
     "cell_type": "markdown",
     "checksum": "150f98306fcff25a6d4c572a6caa3f2e",
     "grade": false,
     "grade_id": "cell-b8c47f402879178d",
     "locked": true,
     "schema_version": 3,
     "solution": false,
     "task": false
    }
   },
   "source": [
    "## Code style"
   ]
  },
  {
   "cell_type": "markdown",
   "metadata": {
    "deletable": false,
    "editable": false,
    "nbgrader": {
     "cell_type": "markdown",
     "checksum": "ec0995ef51b162c8eb2410a7e50e1cd4",
     "grade": false,
     "grade_id": "cell-84184f2431611db4",
     "locked": true,
     "schema_version": 3,
     "solution": false,
     "task": false
    }
   },
   "source": [
    "PEP 8 violations and warnings:"
   ]
  },
  {
   "cell_type": "code",
   "execution_count": null,
   "metadata": {
    "ExecuteTime": {
     "end_time": "2021-06-15T10:26:03.139773Z",
     "start_time": "2021-06-15T10:26:02.312286Z"
    },
    "deletable": false,
    "editable": false,
    "nbgrader": {
     "cell_type": "code",
     "checksum": "5e752f9125e0726663e571a763025604",
     "grade": false,
     "grade_id": "cell-522cb08aab059b4d",
     "locked": true,
     "schema_version": 3,
     "solution": false
    }
   },
   "outputs": [],
   "source": [
    "!find . -iname \"*.py\" | xargs pycodestyle | wc -l"
   ]
  },
  {
   "cell_type": "markdown",
   "metadata": {
    "deletable": false,
    "editable": false,
    "nbgrader": {
     "cell_type": "markdown",
     "checksum": "c319b3759fb3a3f74cd74b66d0c8816b",
     "grade": false,
     "grade_id": "cell-d232d49ef3ed9ea1",
     "locked": true,
     "schema_version": 3,
     "solution": false,
     "task": false
    }
   },
   "source": [
    "## The `SakayDB` class"
   ]
  },
  {
   "cell_type": "code",
   "execution_count": null,
   "metadata": {
    "ExecuteTime": {
     "end_time": "2021-06-15T10:26:03.488876Z",
     "start_time": "2021-06-15T10:26:03.144109Z"
    },
    "deletable": false,
    "editable": false,
    "nbgrader": {
     "cell_type": "code",
     "checksum": "e9bc001c88527cd22a9f65c16e07d78c",
     "grade": true,
     "grade_id": "cell-49e55fbed5f7b4ef",
     "locked": true,
     "points": 5,
     "schema_version": 3,
     "solution": false
    }
   },
   "outputs": [],
   "source": [
    "from sakaydb import SakayDB, SakayDBError"
   ]
  },
  {
   "cell_type": "markdown",
   "metadata": {
    "deletable": false,
    "editable": false,
    "nbgrader": {
     "cell_type": "markdown",
     "checksum": "3a11dc9f5570219ffaccbf9469d619a9",
     "grade": false,
     "grade_id": "cell-54b8d57492a6284e",
     "locked": true,
     "schema_version": 3,
     "solution": false,
     "task": false
    }
   },
   "source": [
    "### Initialization"
   ]
  },
  {
   "cell_type": "code",
   "execution_count": null,
   "metadata": {
    "ExecuteTime": {
     "end_time": "2021-06-15T10:26:03.495332Z",
     "start_time": "2021-06-15T10:26:03.491033Z"
    },
    "deletable": false,
    "editable": false,
    "nbgrader": {
     "cell_type": "code",
     "checksum": "4573e8ddbe985b1a7fdad0d789f002e4",
     "grade": true,
     "grade_id": "cell-5482ae4a72b1df1d",
     "locked": true,
     "points": 10,
     "schema_version": 3,
     "solution": false,
     "task": false
    }
   },
   "outputs": [],
   "source": [
    "sakay_db = SakayDB('.')\n",
    "assert_equal(sakay_db.data_dir, '.')"
   ]
  },
  {
   "cell_type": "markdown",
   "metadata": {
    "deletable": false,
    "editable": false,
    "nbgrader": {
     "cell_type": "markdown",
     "checksum": "52331de93618d17243ac0a2ffa5de614",
     "grade": false,
     "grade_id": "cell-4e67a796cb2a4e82",
     "locked": true,
     "schema_version": 3,
     "solution": false,
     "task": false
    }
   },
   "source": [
    "\n",
    "### Adding a trip to the database"
   ]
  },
  {
   "cell_type": "code",
   "execution_count": null,
   "metadata": {
    "ExecuteTime": {
     "end_time": "2021-06-15T10:26:03.529823Z",
     "start_time": "2021-06-15T10:26:03.496794Z"
    },
    "deletable": false,
    "editable": false,
    "nbgrader": {
     "cell_type": "code",
     "checksum": "ff56436fde6dfe1f216feeddb4cca63a",
     "grade": true,
     "grade_id": "cell-b21d60b042917ff5",
     "locked": true,
     "points": 10,
     "schema_version": 3,
     "solution": false,
     "task": false
    }
   },
   "outputs": [],
   "source": [
    "trip_columns = ['trip_id', 'driver_id', 'pickup_datetime', 'dropoff_datetime',\n",
    "                'passenger_count', 'pickup_loc_id', 'dropoff_loc_id',\n",
    "                'trip_distance', 'fare_amount']\n",
    "driver_columns = ['driver_id', 'given_name', 'last_name']\n",
    "with TemporaryDirectory() as temp_dir:\n",
    "    sakay_db = SakayDB(temp_dir)\n",
    "    shutil.copy('locations.csv', os.path.join(temp_dir, 'locations.csv'))\n",
    "    assert_equal(\n",
    "        sakay_db.add_trip('Dailisan, Damian', '08:13:00,15-05-2022',\n",
    "                          '08:46:00,15-05-2022', 2,\n",
    "                          'UP Campus', 'Legazpi Village', 17.6, 412),\n",
    "        1\n",
    "    )\n",
    "    assert_raises(\n",
    "        SakayDBError,\n",
    "        lambda: sakay_db.add_trip('Dailisan, Damian', '08:13:00,15-05-2022',\n",
    "                                  '08:46:00,15-05-2022', 2, 'UP Campus',\n",
    "                                  'Legazpi Village', 17.6, 412)\n",
    "    )\n",
    "    df_trips = pd.read_csv(os.path.join(temp_dir, 'trips.csv'))\n",
    "    assert_equal(\n",
    "        set(df_trips.columns.tolist()),\n",
    "        set(trip_columns)\n",
    "    )\n",
    "    assert_equal(\n",
    "        df_trips.to_numpy().tolist(),\n",
    "        [[1, 1, '08:13:00,15-05-2022',\n",
    "          '08:46:00,15-05-2022',\n",
    "          2, 1, 2, 17.6, 412]]\n",
    "    )\n",
    "    assert_equal(\n",
    "        df_trips.index.tolist(),\n",
    "        [0]\n",
    "    )\n",
    "    df_drivers = pd.read_csv(os.path.join(temp_dir, 'drivers.csv'))\n",
    "    assert_equal(\n",
    "        set(df_drivers.columns.tolist()),\n",
    "        set(driver_columns)\n",
    "    )\n",
    "    assert_equal(\n",
    "        df_drivers[driver_columns].to_numpy().tolist(),\n",
    "        [[1, 'Damian', 'Dailisan']]\n",
    "    )\n",
    "    assert_equal(\n",
    "        df_drivers.index.tolist(),\n",
    "        [0]\n",
    "    )"
   ]
  },
  {
   "cell_type": "code",
   "execution_count": null,
   "metadata": {
    "ExecuteTime": {
     "end_time": "2021-06-15T10:26:03.588048Z",
     "start_time": "2021-06-15T10:26:03.532769Z"
    },
    "deletable": false,
    "editable": false,
    "nbgrader": {
     "cell_type": "code",
     "checksum": "4cd6aa4ff962868bddf74c5e57742f8f",
     "grade": true,
     "grade_id": "cell-b34bc6a32ad92845",
     "locked": true,
     "points": 10,
     "schema_version": 3,
     "solution": false,
     "task": false
    }
   },
   "outputs": [],
   "source": [
    "with TemporaryDirectory() as temp_dir:\n",
    "    sakay_db = SakayDB(temp_dir)\n",
    "    shutil.copy('locations.csv', os.path.join(temp_dir, 'locations.csv'))\n",
    "    assert_equal(\n",
    "        sakay_db.add_trip('Dailisan, Damian', '08:13:00,15-05-2022',\n",
    "                          '08:46:00,15-05-2022', 2,\n",
    "                          'UP Campus', 'Legazpi Village', 17.6, 412),\n",
    "        1\n",
    "    )\n",
    "    assert_equal(\n",
    "        sakay_db.add_trip('Dorosan, Michael', '14:13:00,31-12-2022',\n",
    "                          '14:46:00,31-12-2022', 1,\n",
    "                          'Fairview', 'Highway Hills', 15.1, 371),\n",
    "        2\n",
    "    )\n",
    "    assert_equal(\n",
    "        sakay_db.add_trip('Alis, Christian', '09:13:00,16-08-2022',\n",
    "                          '09:46:00,16-08-2022', 3,\n",
    "                          'Loyola Heights', 'Legazpi Village', 8.9, 235),\n",
    "        3\n",
    "    )\n",
    "    assert_equal(\n",
    "        sakay_db.add_trip('Dailisan, Damian', '15:13:00,09-09-2022',\n",
    "                          '15:46:00,09-09-2022', 2,\n",
    "                          'Pasong Putik', 'San Antonio', 31.2, 716),\n",
    "        4\n",
    "    )\n",
    "    assert_raises(\n",
    "        SakayDBError,\n",
    "        lambda: sakay_db.add_trip('Alis, Christian', '09:13:00,16-08-2022',\n",
    "                                  '09:46:00,16-08-2022', 3,\n",
    "                                  'Loyola Heights', 'Legazpi Village', 8.9, 235)\n",
    "    )"
   ]
  },
  {
   "cell_type": "code",
   "execution_count": null,
   "metadata": {
    "ExecuteTime": {
     "end_time": "2021-06-15T10:26:03.637584Z",
     "start_time": "2021-06-15T10:26:03.589988Z"
    },
    "deletable": false,
    "editable": false,
    "nbgrader": {
     "cell_type": "code",
     "checksum": "438a4f658125c856f6fbf6e6b74ab532",
     "grade": true,
     "grade_id": "cell-c8403999e8f500a0",
     "locked": true,
     "points": 10,
     "schema_version": 3,
     "solution": false,
     "task": false
    }
   },
   "outputs": [],
   "source": [
    "with TemporaryDirectory() as temp_dir:\n",
    "    sakay_db = SakayDB(temp_dir)\n",
    "    shutil.copy('locations.csv', os.path.join(temp_dir, 'locations.csv'))\n",
    "    assert_equal(\n",
    "        sakay_db.add_trip('Dailisan, Damian', '08:13:00,15-05-2022',\n",
    "                          '08:46:00,15-05-2022', 2,\n",
    "                          'UP Campus', 'Legazpi Village', 17.6, 412),\n",
    "        1\n",
    "    )\n",
    "    assert_equal(\n",
    "        sakay_db.add_trip('Dailisan, Damian', '14:13:00,31-12-2022',\n",
    "                          '14:46:00,31-12-2022', 1,\n",
    "                          'Fairview', 'Highway Hills', 15.1, 371),\n",
    "        2\n",
    "    )\n",
    "    assert_equal(\n",
    "        sakay_db.add_trip('Dailisan, Damian', '09:13:00,16-08-2022',\n",
    "                          '09:46:00,16-08-2022', 3,\n",
    "                          'Fairview', 'Highway Hills', 17.6, 412),\n",
    "        3\n",
    "    )\n",
    "    assert_raises(\n",
    "        SakayDBError,\n",
    "        lambda: sakay_db.add_trip(' Dailisan, Damian ', '09:13:00,16-08-2022',\n",
    "                                  '09:46:00,16-08-2022', 3,\n",
    "                                  ' Fairview ', ' Highway Hills', 17.6, 412)\n",
    "    )"
   ]
  },
  {
   "cell_type": "markdown",
   "metadata": {
    "deletable": false,
    "editable": false,
    "nbgrader": {
     "cell_type": "markdown",
     "checksum": "e09cf25d32267650f4fe8bc3d8bb7b1d",
     "grade": false,
     "grade_id": "cell-23abd53e42e70244",
     "locked": true,
     "schema_version": 3,
     "solution": false,
     "task": false
    }
   },
   "source": [
    "### Adding trips in the database"
   ]
  },
  {
   "cell_type": "code",
   "execution_count": null,
   "metadata": {
    "ExecuteTime": {
     "end_time": "2021-06-15T10:26:03.696124Z",
     "start_time": "2021-06-15T10:26:03.639105Z"
    },
    "deletable": false,
    "editable": false,
    "nbgrader": {
     "cell_type": "code",
     "checksum": "6b483cf4c1432d18549b7274a0d4227c",
     "grade": true,
     "grade_id": "cell-c7029329ad7aab78",
     "locked": true,
     "points": 10,
     "schema_version": 3,
     "solution": false,
     "task": false
    }
   },
   "outputs": [],
   "source": [
    "%%capture out\n",
    "with TemporaryDirectory() as temp_dir:\n",
    "    sakay_db = SakayDB(temp_dir)\n",
    "    shutil.copy('locations.csv', os.path.join(temp_dir, 'locations.csv'))\n",
    "    sakay_db.add_trips([\n",
    "        {'driver': 'Dailisan, Damian',\n",
    "         'pickup_datetime': '08:13:00,15-05-2022',\n",
    "         'dropoff_datetime': '08:46:00,15-05-2022',\n",
    "         'passenger_count': 2,\n",
    "         'pickup_loc_name': 'UP Campus',\n",
    "         'dropoff_loc_name': 'Legazpi Village',\n",
    "         'trip_distance': 17.6,\n",
    "         'fare_amount': 412},\n",
    "        {'driver': 'Dorosan, Michael',\n",
    "         'pickup_datetime': '14:13:00,31-12-2022',\n",
    "         'dropoff_datetime': '14:46:00,31-12-2022',\n",
    "         'passenger_count': 1,\n",
    "         'pickup_loc_name': 'Fairview',\n",
    "         'dropoff_loc_name': 'Highway Hills',\n",
    "         'trip_distance': 15.1,\n",
    "         'fare_amount': 371},\n",
    "        {'driver': 'Alis, Christian',\n",
    "         'pickup_datetime': '09:13:00,16-08-2022',\n",
    "         'dropoff_datetime': '09:46:00,16-08-2022',\n",
    "         'pickup_loc_name': 'Loyola Heights',\n",
    "         'dropoff_loc_name': 'Legazpi Village',\n",
    "         'trip_distance': 8.9,\n",
    "         'fare_amount': 235},\n",
    "        {'driver': 'Dailisan, Damian',\n",
    "         'pickup_datetime': '15:13:00,09-09-2022',\n",
    "         'dropoff_datetime': '15:46:00,09-09-2022',\n",
    "         'passenger_count': 2,\n",
    "         'pickup_loc_name': 'Pasong Putik',\n",
    "         'dropoff_loc_name': 'San Antonio',\n",
    "         'trip_distance': 31.2,\n",
    "         'fare_amount': 716},\n",
    "        {'driver': 'Dorosan, Michael',\n",
    "         'pickup_datetime': '14:13:00,31-12-2022',\n",
    "         'dropoff_datetime': '14:46:00,31-12-2022',\n",
    "         'passenger_count': 1,\n",
    "         'pickup_loc_name': 'Fairview',\n",
    "         'dropoff_loc_name': 'Highway Hills',\n",
    "         'trip_distance': 15.1,\n",
    "         'fare_amount': 371}\n",
    "    ])"
   ]
  },
  {
   "cell_type": "code",
   "execution_count": null,
   "metadata": {
    "ExecuteTime": {
     "end_time": "2021-06-15T10:26:03.700350Z",
     "start_time": "2021-06-15T10:26:03.697628Z"
    },
    "deletable": false,
    "editable": false,
    "nbgrader": {
     "cell_type": "code",
     "checksum": "3e64db7ecb4d3d989251eb9228391630",
     "grade": true,
     "grade_id": "cell-d8b114bdb507d3d2",
     "locked": true,
     "points": 10,
     "schema_version": 3,
     "solution": false,
     "task": false
    }
   },
   "outputs": [],
   "source": [
    "assert_equal(\n",
    "    out.stdout,\n",
    "    'Warning: trip index 2 has invalid or incomplete information. '\n",
    "    'Skipping...\\n'\n",
    "    'Warning: trip index 4 is already in the database. Skipping...\\n'\n",
    ")"
   ]
  },
  {
   "cell_type": "markdown",
   "metadata": {
    "deletable": false,
    "editable": false,
    "nbgrader": {
     "cell_type": "markdown",
     "checksum": "369cf234b669097eff99c977e0f89e20",
     "grade": false,
     "grade_id": "cell-67c5d102b86a99bb",
     "locked": true,
     "schema_version": 3,
     "solution": false,
     "task": false
    }
   },
   "source": [
    "### Deleting a trip in the database"
   ]
  },
  {
   "cell_type": "code",
   "execution_count": null,
   "metadata": {
    "ExecuteTime": {
     "end_time": "2021-06-15T10:26:03.724350Z",
     "start_time": "2021-06-15T10:26:03.701891Z"
    },
    "deletable": false,
    "editable": false,
    "nbgrader": {
     "cell_type": "code",
     "checksum": "40da02e2d221066a98ee425a25e990b3",
     "grade": true,
     "grade_id": "cell-d78f0811e5a2da94",
     "locked": true,
     "points": 10,
     "schema_version": 3,
     "solution": false,
     "task": false
    }
   },
   "outputs": [],
   "source": [
    "with TemporaryDirectory() as temp_dir:\n",
    "    sakay_db = SakayDB(temp_dir)\n",
    "    assert_raises(SakayDBError, lambda: sakay_db.delete_trip(1))\n",
    "    shutil.copy('trips_test.csv', os.path.join(temp_dir, 'trips.csv'))\n",
    "    shutil.copy('drivers_test.csv', os.path.join(temp_dir, 'drivers.csv'))\n",
    "    sakay_db.delete_trip(1)\n",
    "    assert_raises(SakayDBError, lambda: sakay_db.delete_trip(1))"
   ]
  },
  {
   "cell_type": "markdown",
   "metadata": {
    "deletable": false,
    "editable": false,
    "nbgrader": {
     "cell_type": "markdown",
     "checksum": "40930faa0c5dee8146af50c45fb00113",
     "grade": false,
     "grade_id": "cell-886f95741a20499e",
     "locked": true,
     "schema_version": 3,
     "solution": false,
     "task": false
    }
   },
   "source": [
    "### Searching for trips in the database"
   ]
  },
  {
   "cell_type": "code",
   "execution_count": null,
   "metadata": {
    "ExecuteTime": {
     "end_time": "2021-06-15T10:26:03.743214Z",
     "start_time": "2021-06-15T10:26:03.725979Z"
    },
    "deletable": false,
    "editable": false,
    "nbgrader": {
     "cell_type": "code",
     "checksum": "a471a34eb4db842993fec114f0785c89",
     "grade": true,
     "grade_id": "cell-6095e55a61a061aa",
     "locked": true,
     "points": 10,
     "schema_version": 3,
     "solution": false,
     "task": false
    }
   },
   "outputs": [],
   "source": [
    "with TemporaryDirectory() as temp_dir:\n",
    "    sakay_db = SakayDB(temp_dir)\n",
    "    assert_raises(SakayDBError, lambda: sakay_db.search_trips())\n",
    "    assert_equal(sakay_db.search_trips(driver_id=1), [])\n",
    "    shutil.copy('trips_test.csv', os.path.join(temp_dir, 'trips.csv'))\n",
    "    shutil.copy('drivers_test.csv', os.path.join(temp_dir, 'drivers.csv'))\n",
    "    assert_raises(SakayDBError, lambda: sakay_db.search_trips())\n",
    "\n",
    "    assert_equal(sakay_db.search_trips(driver_id=1).to_numpy().tolist(),\n",
    "                 [[1, 1, '08:13:00,15-05-2022', '08:46:00,15-05-2022', 2, 1, 2, 17.6, 412],\n",
    "                  [4, 1, '15:13:00,09-09-2022', '15:46:00,09-09-2022', 2, 6, 7, 31.2, 716]]\n",
    "                 )\n",
    "    assert_equal(sakay_db.search_trips(fare_amount=(None, 300)).to_numpy().tolist(),\n",
    "                 [[3, 3, '09:13:00,16-08-2022', '09:46:00,16-08-2022', 3, 5, 2, 8.9, 235]]\n",
    "                 )\n",
    "    assert_equal(sakay_db.search_trips(driver_id=1, fare_amount=(None, 300)).to_numpy().tolist(),\n",
    "                 [])\n",
    "    assert_equal(sakay_db.search_trips(driver_id=1, fare_amount=(200, 500)).to_numpy().tolist(),\n",
    "                 [[1, 1, '08:13:00,15-05-2022', '08:46:00,15-05-2022', 2, 1, 2, 17.6, 412]])\n",
    "\n",
    "    assert_equal(sakay_db.search_trips(\n",
    "                 pickup_datetime=('00:00:00,1-05-2022', '23:59:59,31-08-2022')\n",
    "                 ).to_numpy().tolist(),\n",
    "                 [[1, 1, '08:13:00,15-05-2022', '08:46:00,15-05-2022', 2, 1, 2, 17.6, 412],\n",
    "                  [3, 3, '09:13:00,16-08-2022', '09:46:00,16-08-2022', 3, 5, 2, 8.9, 235]]\n",
    "                 )"
   ]
  },
  {
   "cell_type": "markdown",
   "metadata": {
    "deletable": false,
    "editable": false,
    "nbgrader": {
     "cell_type": "markdown",
     "checksum": "c07cf2f8b7dec0ef37728c79d5476c41",
     "grade": false,
     "grade_id": "cell-d0af76db146a39c4",
     "locked": true,
     "schema_version": 3,
     "solution": false,
     "task": false
    }
   },
   "source": [
    "### Exporting data"
   ]
  },
  {
   "cell_type": "code",
   "execution_count": null,
   "metadata": {
    "ExecuteTime": {
     "end_time": "2021-06-15T10:26:03.778193Z",
     "start_time": "2021-06-15T10:26:03.744972Z"
    },
    "deletable": false,
    "editable": false,
    "nbgrader": {
     "cell_type": "code",
     "checksum": "ce723435cf8ba0848d986753ab3fc478",
     "grade": true,
     "grade_id": "cell-65c33d520278536c",
     "locked": true,
     "points": 10,
     "schema_version": 3,
     "solution": false,
     "task": false
    }
   },
   "outputs": [],
   "source": [
    "export_columns = ['driver_givenname', 'driver_lastname', 'pickup_datetime', 'dropoff_datetime',\n",
    "                  'passenger_count', 'pickup_loc_name', 'dropoff_loc_name',\n",
    "                  'trip_distance', 'fare_amount']\n",
    "with TemporaryDirectory() as temp_dir:\n",
    "    sakay_db = SakayDB(temp_dir)\n",
    "    df_export = sakay_db.export_data()\n",
    "    assert_equal(isinstance(df_export, pd.DataFrame), True)\n",
    "    assert_equal(\n",
    "        set(df_export.columns.tolist()),\n",
    "        set(export_columns)\n",
    "    )\n",
    "    assert_equal(len(df_export), 0)\n",
    "    shutil.copy('trips_test.csv', os.path.join(temp_dir, 'trips.csv'))\n",
    "    shutil.copy('drivers_test.csv', os.path.join(temp_dir, 'drivers.csv'))\n",
    "    shutil.copy('locations.csv', os.path.join(temp_dir, 'locations.csv'))\n",
    "    df_export = sakay_db.export_data()\n",
    "    assert_equal(isinstance(df_export, pd.DataFrame), True)\n",
    "    assert_equal(\n",
    "        set(df_export.columns.tolist()),\n",
    "        set(export_columns)\n",
    "    )\n",
    "    assert_equal(\n",
    "        df_export.loc[df_export.index[:2], export_columns].to_numpy().tolist(),\n",
    "        [['Damian', 'Dailisan', '08:13:00,15-05-2022', '08:46:00,15-05-2022', 2, 'UP Campus', 'Legazpi Village', 17.6, 412],\n",
    "         ['Michael', 'Dorosan', '14:13:00,31-12-2022', '14:46:00,31-12-2022', 1, 'Fairview', 'Highway Hills', 15.1, 371]]\n",
    "    )"
   ]
  },
  {
   "cell_type": "markdown",
   "metadata": {
    "deletable": false,
    "editable": false,
    "nbgrader": {
     "cell_type": "markdown",
     "checksum": "a379a0d8da464488e784d6df72135ade",
     "grade": false,
     "grade_id": "cell-78014806f30d6878",
     "locked": true,
     "schema_version": 3,
     "solution": false,
     "task": false
    }
   },
   "source": [
    "### Generating statistics"
   ]
  },
  {
   "cell_type": "code",
   "execution_count": null,
   "metadata": {
    "ExecuteTime": {
     "end_time": "2021-06-15T10:26:03.819560Z",
     "start_time": "2021-06-15T10:26:03.779969Z"
    },
    "deletable": false,
    "editable": false,
    "nbgrader": {
     "cell_type": "code",
     "checksum": "4b400aa5b4a347d728d4d53c7ef62f7a",
     "grade": true,
     "grade_id": "cell-731169cc80101554",
     "locked": true,
     "points": 10,
     "schema_version": 3,
     "solution": false,
     "task": false
    }
   },
   "outputs": [],
   "source": [
    "with TemporaryDirectory() as temp_dir:\n",
    "    sakay_db = SakayDB(temp_dir)\n",
    "    assert_raises(SakayDBError, lambda: sakay_db.generate_statistics('Trips'))\n",
    "    assert_equal(sakay_db.generate_statistics('trip'), {})\n",
    "    assert_equal(sakay_db.generate_statistics('passenger'), {})\n",
    "    assert_equal(sakay_db.generate_statistics('driver'), {})\n",
    "    assert_equal(\n",
    "        sakay_db.generate_statistics('all'),\n",
    "        {'trip': {}, 'passenger': {}, 'driver': {}}\n",
    "    )\n",
    "    shutil.copy('trips_test2.csv', os.path.join(temp_dir, 'trips.csv'))\n",
    "    shutil.copy('drivers_test2.csv',\n",
    "                os.path.join(temp_dir, 'drivers.csv'))\n",
    "    shutil.copy('locations.csv', os.path.join(temp_dir, 'locations.csv'))\n",
    "    stats_trip = sakay_db.generate_statistics('trip')\n",
    "    assert_equal(len(stats_trip), 7)\n",
    "    assert_almost_equal(stats_trip['Friday'], 41.794117647058826)\n",
    "    assert_almost_equal(stats_trip['Sunday'], 41.714285714285715)"
   ]
  },
  {
   "cell_type": "code",
   "execution_count": null,
   "metadata": {
    "ExecuteTime": {
     "end_time": "2021-06-15T10:26:10.571795Z",
     "start_time": "2021-06-15T10:26:03.821421Z"
    },
    "deletable": false,
    "editable": false,
    "nbgrader": {
     "cell_type": "code",
     "checksum": "156590273fd1737ddbe9039ae2e030ac",
     "grade": true,
     "grade_id": "cell-831169cc80101554",
     "locked": true,
     "points": 10,
     "schema_version": 3,
     "solution": false,
     "task": false
    }
   },
   "outputs": [],
   "source": [
    "with TemporaryDirectory() as temp_dir:\n",
    "    sakay_db = SakayDB(temp_dir)\n",
    "    shutil.copy('trips_test2.csv', os.path.join(temp_dir, 'trips.csv'))\n",
    "    shutil.copy('drivers_test2.csv',\n",
    "                os.path.join(temp_dir, 'drivers.csv'))\n",
    "    shutil.copy('locations.csv', os.path.join(temp_dir, 'locations.csv'))\n",
    "    stats_passenger = sakay_db.generate_statistics('passenger')\n",
    "    assert_equal(len(stats_passenger), 4)\n",
    "    assert_equal(len(stats_passenger[0]), 7)\n",
    "    assert_almost_equal(\n",
    "        stats_passenger[0]['Monday'],\n",
    "        9.371428571428572\n",
    "    )\n",
    "    stats_driver = sakay_db.generate_statistics('driver')\n",
    "\n",
    "    assert_equal(len(stats_driver), 200)\n",
    "    assert_almost_equal(\n",
    "        stats_driver['Dome, Benyamin']['Saturday'],\n",
    "        1\n",
    "    )\n",
    "    stats_all = sakay_db.generate_statistics('all')\n",
    "    assert_equal(set(stats_all.keys()), {'trip', 'passenger', 'driver'})\n",
    "    assert_equal(len(stats_all['trip']), 7)\n",
    "    assert_almost_equal(stats_all['trip']['Tuesday'], 39.74285714285714)\n",
    "    assert_equal(len(stats_all['passenger']), 4)\n",
    "    assert_almost_equal(stats_all['passenger'][0]['Monday'],\n",
    "                        9.371428571428572)\n",
    "    assert_almost_equal(\n",
    "        stats_all['driver']['Dome, Benyamin']['Saturday'],\n",
    "        1\n",
    "    )\n",
    "    assert_equal(len(stats_all['driver']), 200)"
   ]
  },
  {
   "cell_type": "markdown",
   "metadata": {
    "deletable": false,
    "editable": false,
    "nbgrader": {
     "cell_type": "markdown",
     "checksum": "c79f4d5f337ed0fe96d3725fdf80eea5",
     "grade": false,
     "grade_id": "cell-06bf997bfde078e8",
     "locked": true,
     "schema_version": 3,
     "solution": false,
     "task": false
    }
   },
   "source": [
    "### Plotting statistics"
   ]
  },
  {
   "cell_type": "code",
   "execution_count": null,
   "metadata": {
    "ExecuteTime": {
     "end_time": "2021-06-15T10:26:14.883517Z",
     "start_time": "2021-06-15T10:26:10.574942Z"
    },
    "deletable": false,
    "editable": false,
    "nbgrader": {
     "cell_type": "code",
     "checksum": "018e1500523ac6023ff6a50f41814af8",
     "grade": true,
     "grade_id": "cell-13fc49db79dc8a03",
     "locked": true,
     "points": 10,
     "schema_version": 3,
     "solution": false,
     "task": false
    }
   },
   "outputs": [],
   "source": [
    "from matplotlib.legend import Legend\n",
    "with TemporaryDirectory() as temp_dir:\n",
    "    sakay_db = SakayDB(temp_dir)\n",
    "    shutil.copy('trips_test2.csv', os.path.join(temp_dir, 'trips.csv'))\n",
    "    shutil.copy('drivers_test2.csv',\n",
    "                os.path.join(temp_dir, 'drivers.csv'))\n",
    "    shutil.copy('locations.csv', os.path.join(temp_dir, 'locations.csv'))\n",
    "    \n",
    "    # trip tests\n",
    "    ax_trip = sakay_db.plot_statistics('trip')\n",
    "    ax_trip.get_figure().canvas.draw()\n",
    "    \n",
    "    assert_equal(ax_trip.get_title(), 'Average trips per day')\n",
    "    assert_equal(\n",
    "        [t.get_text() for t in ax_trip.get_xticklabels()],\n",
    "        ['Monday', 'Tuesday', 'Wednesday', 'Thursday', 'Friday', \n",
    "         'Saturday', 'Sunday']\n",
    "    )\n",
    "    assert_equal(\n",
    "        [t.get_text() for t in ax_trip.get_yticklabels()],\n",
    "        ['0', '5', '10', '15', '20', '25', '30', '35', '40', '45']\n",
    "    )\n",
    "    assert_equal(ax_trip.figure.get_size_inches(), (12, 8))\n",
    "    assert_equal(ax_trip.get_ylabel(), 'Ave Trips')\n",
    "    assert_equal(ax_trip.get_xlabel(), 'Day of week')\n",
    "\n",
    "    \n",
    "    # passenger tests\n",
    "    ax_passenger = sakay_db.plot_statistics('passenger')\n",
    "    ax_passenger.get_figure().canvas.draw()\n",
    "    \n",
    "    assert_equal(ax_passenger.get_ylabel(), 'Ave Trips')\n",
    "    assert_equal(ax_passenger.get_xlabel(), 'Day of week')\n",
    "    assert_equal(\n",
    "        [t for t in ax_passenger.get_yticks()],\n",
    "        [9.0, 9.25, 9.5, 9.75, 10.0, 10.25, 10.5, 10.75, 11.0, \n",
    "         11.25, 11.5]\n",
    "    )\n",
    "    \n",
    "    assert_equal(\n",
    "        ax_passenger.get_legend_handles_labels()[1],\n",
    "        ['0', '1', '2', '3']\n",
    "    )\n",
    "    assert_equal(ax_passenger.lines[0].get_label(), '0')\n",
    "    assert_equal(ax_passenger.lines[0].get_marker(), 'o')\n",
    "    assert_equal(ax_passenger.lines[0].get_ls(), '-')\n",
    "\n",
    "\n",
    "    # driver tests\n",
    "    ax_driver = sakay_db.plot_statistics('driver')\n",
    "    axes = ax_driver.get_axes()\n",
    "    \n",
    "    assert_equal(ax_driver.get_size_inches(), (8.0, 25.0))\n",
    "    assert_equal(\n",
    "        axes[0].get_position().get_points().tolist(), \n",
    "        [[0.125, 0.7879268292682927], [0.9, 0.88]]\n",
    "    )\n",
    "    assert_equal(axes[0].get_legend_handles_labels()[1][0], 'Monday')\n",
    "    assert_equal(axes[6].get_legend_handles_labels()[1][0], 'Sunday')\n",
    "    assert_equal(axes[6].get_title(), '')\n",
    "    assert_equal(axes[0].get_xticks(), axes[6].get_xticks())\n",
    "    "
   ]
  },
  {
   "cell_type": "markdown",
   "metadata": {
    "deletable": false,
    "editable": false,
    "nbgrader": {
     "cell_type": "markdown",
     "checksum": "b2c0a860dcda0eff8a309afe31e09530",
     "grade": false,
     "grade_id": "cell-8f2f72172df902bc",
     "locked": true,
     "schema_version": 3,
     "solution": false,
     "task": false
    }
   },
   "source": [
    "### Generate OD matrix"
   ]
  },
  {
   "cell_type": "code",
   "execution_count": null,
   "metadata": {
    "ExecuteTime": {
     "end_time": "2021-06-15T10:26:14.920621Z",
     "start_time": "2021-06-15T10:26:14.885425Z"
    },
    "deletable": false,
    "editable": false,
    "nbgrader": {
     "cell_type": "code",
     "checksum": "0b4784b97940c2f1d537ad48f695b21d",
     "grade": true,
     "grade_id": "cell-a434995cc2b8dccf",
     "locked": true,
     "points": 10,
     "schema_version": 3,
     "solution": false,
     "task": false
    }
   },
   "outputs": [],
   "source": [
    "with TemporaryDirectory() as temp_dir:\n",
    "    sakay_db = SakayDB(temp_dir)\n",
    "    assert_equal(sakay_db.generate_odmatrix().to_numpy().tolist(), [])\n",
    "    shutil.copy('trips_test2.csv', os.path.join(temp_dir, 'trips.csv'))\n",
    "    shutil.copy('drivers_test2.csv',\n",
    "                os.path.join(temp_dir, 'drivers.csv'))\n",
    "    shutil.copy('locations.csv', os.path.join(temp_dir, 'locations.csv'))\n",
    "    od_df = sakay_db.generate_odmatrix()\n",
    "    assert_equal(od_df.shape, (48, 48))\n",
    "    assert_equal(od_df.loc['Macpherson', 'UP Campus'], 1.25)\n",
    "    assert_equal(od_df.iloc[-2, -2], 0)\n",
    "    assert_equal(sakay_db\n",
    "                   .generate_odmatrix(date_range=('00:00:00,1-08-2022', '23:59:59,31-08-2022'))\n",
    "                   .shape, (48, 48))"
   ]
  }
 ],
 "metadata": {
  "hide_input": false,
  "kernelspec": {
   "display_name": "Python 3 (ipykernel)",
   "language": "python",
   "name": "python3"
  },
  "language_info": {
   "codemirror_mode": {
    "name": "ipython",
    "version": 3
   },
   "file_extension": ".py",
   "mimetype": "text/x-python",
   "name": "python",
   "nbconvert_exporter": "python",
   "pygments_lexer": "ipython3",
   "version": "3.9.13"
  },
  "toc": {
   "base_numbering": 1,
   "nav_menu": {},
   "number_sections": true,
   "sideBar": true,
   "skip_h1_title": false,
   "title_cell": "Table of Contents",
   "title_sidebar": "Contents",
   "toc_cell": false,
   "toc_position": {
    "height": "calc(100% - 180px)",
    "left": "10px",
    "top": "150px",
    "width": "165px"
   },
   "toc_section_display": true,
   "toc_window_display": false
  }
 },
 "nbformat": 4,
 "nbformat_minor": 2
}

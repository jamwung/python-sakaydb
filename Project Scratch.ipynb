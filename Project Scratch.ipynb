{
 "cells": [
  {
   "cell_type": "markdown",
   "id": "fe48e985",
   "metadata": {},
   "source": [
    "# Import Library/Module"
   ]
  },
  {
   "cell_type": "code",
   "execution_count": 1,
   "id": "80d780cc",
   "metadata": {
    "ExecuteTime": {
     "end_time": "2022-09-02T03:16:19.108162Z",
     "start_time": "2022-09-02T03:16:18.702170Z"
    }
   },
   "outputs": [],
   "source": [
    "import pickle\n",
    "import shutil\n",
    "import os\n",
    "import pandas as pd\n",
    "from tempfile import TemporaryDirectory\n",
    "from numpy.testing import (assert_equal, assert_almost_equal,\n",
    "                           assert_raises, assert_allclose)"
   ]
  },
  {
   "cell_type": "code",
   "execution_count": 2,
   "id": "9d22e302",
   "metadata": {
    "ExecuteTime": {
     "end_time": "2022-09-02T03:16:21.264282Z",
     "start_time": "2022-09-02T03:16:19.382397Z"
    }
   },
   "outputs": [
    {
     "name": "stderr",
     "output_type": "stream",
     "text": [
      "Matplotlib created a temporary config/cache directory at /tmp/matplotlib-4cttrs22 because the default path (/home/fgarcia/.cache/matplotlib) is not a writable directory; it is highly recommended to set the MPLCONFIGDIR environment variable to a writable directory, in particular to speed up the import of Matplotlib and to better support multiprocessing.\n"
     ]
    }
   ],
   "source": [
    "import numpy as np\n",
    "import pandas as pd\n",
    "import os\n",
    "import matplotlib.pyplot as plt"
   ]
  },
  {
   "cell_type": "markdown",
   "id": "fa644eff",
   "metadata": {},
   "source": [
    "Notes:\n",
    "* Generating stats has contracdicting instructions: trips key in instructions, trip in asserts\n",
    "* Plots drivers descending in df but looks ascending in plot"
   ]
  },
  {
   "cell_type": "markdown",
   "id": "94045335",
   "metadata": {},
   "source": [
    "# Class SakayDB"
   ]
  },
  {
   "cell_type": "code",
   "execution_count": 4,
   "id": "5e35ea46",
   "metadata": {
    "ExecuteTime": {
     "end_time": "2022-09-02T08:23:09.449625Z",
     "start_time": "2022-09-02T08:23:09.379710Z"
    }
   },
   "outputs": [],
   "source": [
    "class SakayDBError(ValueError):\n",
    "    def __init__(self, text=None):\n",
    "        super().__init__(text)\n",
    "\n",
    "\n",
    "class SakayDB():\n",
    "\n",
    "    def __init__(self, data_dir):\n",
    "        self.data_dir = data_dir\n",
    "\n",
    "    def add_trip(self, driver, pickup_datetime, dropoff_datetime, \n",
    "                 passenger_count, pickup_loc_name, dropoff_loc_name, \n",
    "                 trip_distance, fare_amount):\n",
    "        \n",
    "        # Parsing driver input\n",
    "        driver_name = driver.split(', ')\n",
    "        if len(driver_name) != 2:\n",
    "            raise SakayDBError\n",
    "\n",
    "        # Loading dataframes\n",
    "        trip_dir = os.path.join(self.data_dir, 'trips.csv')  # Change name to trips.csv if finalize\n",
    "        driver_dir = os.path.join(self.data_dir, 'drivers.csv')  # Change name to drivers.csv if finalize\n",
    "        loc_dir = os.path.join(self.data_dir, 'locations.csv')\n",
    "        df_locs = pd.read_csv(loc_dir)\n",
    "        \n",
    "        # Checks if the file exists\n",
    "        if os.path.exists(driver_dir):\n",
    "            df_drivers = pd.read_csv(driver_dir)\n",
    "            \n",
    "            # Checks if the input driver exists in directory\n",
    "            df_tripdriver = df_drivers[(df_drivers['last_name'].str.lower() == driver_name[0].lower()) & (df_drivers['given_name'].str.lower() == driver_name[1].lower())]\n",
    "         \n",
    "            # Append new driver and driver_id\n",
    "            if df_tripdriver.shape[0] == 0:  \n",
    "                driver_id = df_drivers.loc[df_drivers.shape[0] - 1, 'driver_id'] + 1\n",
    "                df_drivers.loc[len(df_drivers)] = [driver_id, driver_name[0].title(), driver_name[1].title()]\n",
    "                df_drivers.to_csv(driver_dir, index=False) \n",
    "\n",
    "            # Get the existing driver_id of the input driver\n",
    "            else:\n",
    "                driver_id = df_tripdriver.iloc[0, 0]\n",
    "        # Create a new dataframe\n",
    "        else:\n",
    "            df_drivers = pd.DataFrame(columns=['driver_id',\n",
    "                                               'last_name',\n",
    "                                               'given_name'])\n",
    "            driver_id = 1  # For new file (no driver entry yet)\n",
    "            df_drivers.loc[len(df_drivers)] = [driver_id, driver_name[0].title(), driver_name[1].title()]\n",
    "            df_drivers.to_csv(driver_dir, index=False) \n",
    "        \n",
    "        # Identifies the pickup and dropoff loc_id\n",
    "        pickup_loc_id = df_locs.loc[(df_locs['loc_name'].str.lower() == pickup_loc_name.lower()), 'location_id']\n",
    "        if pickup_loc_id.shape[0] == 0:\n",
    "            raise SakayDBError('has invalid or incomplete information')\n",
    "        else:\n",
    "            pickup_loc_id = pickup_loc_id.values[0]\n",
    "        \n",
    "        dropoff_loc_id = df_locs.loc[(df_locs['loc_name'].str.lower() == dropoff_loc_name.lower()), 'location_id']\n",
    "        if dropoff_loc_id.shape[0] == 0:\n",
    "            raise SakayDBError('has invalid or incomplete information')\n",
    "        else:\n",
    "            dropoff_loc_id = dropoff_loc_id.values[0]\n",
    "\n",
    "        \n",
    "        # Double check by casting correct data type\n",
    "        passenger_count = int(passenger_count)\n",
    "        trip_distance = float(trip_distance)\n",
    "        fare_amount = float(fare_amount)\n",
    "        \n",
    "        # Trip dataframe\n",
    "        if os.path.exists(trip_dir):\n",
    "            df_trips = pd.read_csv(trip_dir)\n",
    "            \n",
    "            # Check if trip already exists\n",
    "            df_trip = df_trips[(df_trips['driver_id'] == driver_id)\n",
    "                               & (df_trips['pickup_datetime'] == pickup_datetime)\n",
    "                               & (df_trips['dropoff_datetime'] == dropoff_datetime)\n",
    "                               & (df_trips['passenger_count'] == passenger_count)\n",
    "                               & (df_trips['pickup_loc_id'] == pickup_loc_id)\n",
    "                               & (df_trips['dropoff_loc_id'] == dropoff_loc_id)\n",
    "                               & (np.isclose(df_trips['trip_distance'], trip_distance))\n",
    "                               & (np.isclose(df_trips['fare_amount'], fare_amount))]\n",
    "            # Append new trip\n",
    "            if df_trip.shape[0] == 0:  \n",
    "                trip_id = df_trips.loc[df_trips.shape[0] - 1, 'trip_id'] + 1\n",
    "                df_trips.loc[len(df_trips)] = [trip_id, driver_id,\n",
    "                                               pickup_datetime,\n",
    "                                               dropoff_datetime, passenger_count,\n",
    "                                               pickup_loc_id, dropoff_loc_id,\n",
    "                                               trip_distance, fare_amount]\n",
    "                df_trips.to_csv(trip_dir, index=False)\n",
    "                return trip_id\n",
    "\n",
    "            # Return existing trip_id\n",
    "            else:\n",
    "                raise SakayDBError('is already in the database')\n",
    "            \n",
    "        else:\n",
    "            df_trips = pd.DataFrame(columns=['trip_id',\n",
    "                                             'driver_id',\n",
    "                                             'pickup_datetime',\n",
    "                                             'dropoff_datetime',\n",
    "                                             'passenger_count',\n",
    "                                             'pickup_loc_id',\n",
    "                                             'dropoff_loc_id',\n",
    "                                             'trip_distance',\n",
    "                                             'fare_amount'])\n",
    "            trip_id = 1\n",
    "            df_trips.loc[len(df_trips)] = [trip_id, driver_id,\n",
    "                                           pickup_datetime,\n",
    "                                           dropoff_datetime, passenger_count,\n",
    "                                           pickup_loc_id, dropoff_loc_id,\n",
    "                                           trip_distance, fare_amount]\n",
    "            df_trips.to_csv(trip_dir, index=False)\n",
    "            return trip_id\n",
    "    \n",
    "    def add_trips(self, trips):\n",
    "        trip_ids = []\n",
    "        for i, trip in enumerate(trips):\n",
    "            try:\n",
    "                trip_id = self.add_trip(trip['driver'], trip['pickup_datetime'], trip['dropoff_datetime'],\n",
    "                              trip['passenger_count'], trip['pickup_loc_name'], trip['dropoff_loc_name'],\n",
    "                              trip['trip_distance'], trip['fare_amount'])\n",
    "                trip_ids.append(trip_id)\n",
    "            except SakayDBError as error_text:\n",
    "                print(f'Warning: trip index {i} {error_text}. Skipping...')\n",
    "            except:\n",
    "                print(f'Warning: trip index {i} has invalid or incomplete information. Skipping...')\n",
    "        return trip_ids\n",
    "    \n",
    "#     def delete_trip(self, trip_id):\n",
    "#         # Loading dataframes\n",
    "#         trip_dir = os.path.join(self.data_dir, 'trips.csv')  # Change name to trips.csv if finalize\n",
    "\n",
    "    def delete_trip(self, trip_id):\n",
    "        # Loading dataframes\n",
    "        trip_dir = os.path.join(self.data_dir, 'trips.csv')  # Change name to trips.csv if finalize\n",
    "        \n",
    "        # Checks if the file exists\n",
    "        if os.path.exists(trip_dir):\n",
    "            df_trips = pd.read_csv(trip_dir)\n",
    "            \n",
    "            df_trip = df_trips[(df_trips['trip_id'] == trip_id)]\n",
    "            \n",
    "            # Input trip_id doesn't exist in the dataframe\n",
    "            if df_trip.shape[0] == 0:  \n",
    "                raise SakayDBError\n",
    "                \n",
    "            # Delete row corresponding to the input trip_id\n",
    "            else:\n",
    "                df_trips = df_trips[df_trips['trip_id'] != trip_id] \n",
    "                df_trips.to_csv(trip_dir, index=False)\n",
    "                return trip_id\n",
    "        \n",
    "        # No trips dataframe yet\n",
    "        else:\n",
    "            raise SakayDBError\n",
    "            \n",
    "    def search_trips(self, **kwargs):\n",
    "        # Key lists\n",
    "        valid_keys = ['driver_id', 'pickup_datetime', 'dropoff_datetime', 'passenger_count', 'trip_distance', 'fare_amount']\n",
    "        date_keys = ['pickup_datetime', 'dropoff_datetime']\n",
    "        float_keys = ['driver_id', 'passenger_count', 'trip_distance', 'fare_amount']\n",
    "        \n",
    "        # Checks if valid keyword argument\n",
    "        keys = kwargs.keys()\n",
    "        if len(keys) == 0 or any([True if key not in valid_keys else False for key in keys]):\n",
    "            raise SakayDBError\n",
    "        \n",
    "        # Checks if the database exists\n",
    "        trip_dir = os.path.join(self.data_dir, 'trips.csv')\n",
    "        if os.path.exists(trip_dir):\n",
    "            df_trips = pd.read_csv(trip_dir)\n",
    "        else:\n",
    "            return []\n",
    "\n",
    "        # Keep a copy of string format datetime, then cast the other copy to a datetime format\n",
    "        df_trips.insert(loc=4, column='pickup_string', value=df_trips['pickup_datetime'], allow_duplicates=True)\n",
    "        df_trips.insert(loc=5, column='dropoff_string', value=df_trips['dropoff_datetime'], allow_duplicates=True)\n",
    "        df_trips['pickup_datetime'] = pd.to_datetime(df_trips['pickup_datetime'], format='%H:%M:%S,%d-%m-%Y')\n",
    "        df_trips['dropoff_datetime'] = pd.to_datetime(df_trips['dropoff_datetime'], format='%H:%M:%S,%d-%m-%Y')\n",
    "\n",
    "        # For valid keys\n",
    "        for key, value in kwargs.items():\n",
    "            try:\n",
    "                if type(value) is tuple:\n",
    "                    if len(value) != 2:\n",
    "                        raise SakayDBError\n",
    "\n",
    "                    # Change value format to be align with key format\n",
    "                    value = list(value)\n",
    "                    if key in float_keys:\n",
    "                        if value[0] is not None:\n",
    "                            value[0] = float(value[0])\n",
    "                        if value[1] is not None:\n",
    "                            value[1] = float(value[1])\n",
    "                    if key in date_keys:\n",
    "                        if value[0] is not None:\n",
    "                            value[0] = pd.to_datetime(value[0], format='%H:%M:%S,%d-%m-%Y')\n",
    "                        if value[1] is not None:\n",
    "                            value[1] = pd.to_datetime(value[1], format='%H:%M:%S,%d-%m-%Y')\n",
    "\n",
    "                    # Filter dataframe base on range\n",
    "                    if (value[0] is not None) and (value[1] is None):\n",
    "                        df_trips = df_trips[(df_trips[key] >= value[0])]\n",
    "                    elif (value[0] is None) and (value[1] is not None):\n",
    "                        df_trips = df_trips[(df_trips[key] <= value[1])]\n",
    "                    elif (value[0] is not None) and (value[1] is not None):\n",
    "                        df_trips = df_trips[(df_trips[key] >= value[0]) & (df_trips[key] <= value[1])]\n",
    "                else:\n",
    "                    # Change value format to be align with key format\n",
    "                    if key in float_keys:\n",
    "                        value = float(value)\n",
    "                    if key in date_keys:\n",
    "                        value = pd.to_datetime(value, format='%H:%M:%S,%d-%m-%Y')\n",
    "\n",
    "                    # Filter dataframe base on exact\n",
    "                    df_trips = df_trips[df_trips[key] == value]\n",
    "            except:\n",
    "                raise SakayDBError\n",
    "\n",
    "        # Revert to original datetime\n",
    "        df_trips.drop(columns=date_keys, inplace=True)\n",
    "        df_trips.rename(columns={'pickup_string': 'pickup_datetime', 'dropoff_string': 'dropoff_datetime'}, inplace=True)\n",
    "        return df_trips\n",
    "\n",
    "    def export_data(self):\n",
    "        trip_dir = os.path.join(self.data_dir, 'trips.csv')\n",
    "        driver_dir = os.path.join(self.data_dir, 'drivers.csv')\n",
    "        loc_dir = os.path.join(self.data_dir, 'locations.csv')\n",
    "        \n",
    "        if os.path.exists(trip_dir) and os.path.exists(driver_dir) and os.path.exists(loc_dir):\n",
    "            df_trips = pd.read_csv(trip_dir)\n",
    "            df_drivers = pd.read_csv(driver_dir)\n",
    "            df_locs = pd.read_csv(loc_dir)\n",
    "            \n",
    "            # Merging of dataframe to get all necessary columns\n",
    "            df_trips = df_trips.merge(df_drivers, how='left', on='driver_id')\n",
    "            df_trips = df_trips.merge(df_locs, how='left', left_on='pickup_loc_id', right_on='location_id')\n",
    "            df_trips = df_trips.merge(df_locs, how='left', left_on='dropoff_loc_id', right_on='location_id')\n",
    "            \n",
    "            # Manipulate columns to meet the requirements\n",
    "            df_trips.sort_values(by='trip_id', axis=0, ascending=True, inplace=True)\n",
    "            df_trips.set_index('trip_id', inplace=True)\n",
    "            df_trips.drop(columns=['driver_id', 'pickup_loc_id', 'dropoff_loc_id', 'location_id_x', 'location_id_y'], axis=1, inplace=True)\n",
    "            df_trips.rename(columns={'given_name': 'driver_givenname', 'last_name': 'driver_lastname', 'loc_name_x': 'pickup_loc_name', 'loc_name_y': 'dropoff_loc_name'}, inplace=True)\n",
    "            df_trips = df_trips[['driver_lastname', 'driver_givenname', 'pickup_datetime', 'dropoff_datetime', 'passenger_count', 'pickup_loc_name', 'dropoff_loc_name', 'trip_distance', 'fare_amount']]\n",
    "            df_trips = df_trips.astype({'driver_lastname': 'string', 'driver_givenname': 'string', 'pickup_datetime': 'string', 'dropoff_datetime': 'string', 'passenger_count': 'int', 'pickup_loc_name': 'string', 'dropoff_loc_name': 'string', 'trip_distance': 'float', 'fare_amount': 'float'})\n",
    "            return df_trips\n",
    "        else:\n",
    "            return pd.DataFrame(columns=['driver_givenname', 'driver_lastname', 'pickup_datetime', 'dropoff_datetime', 'passenger_count', 'pickup_loc_name', 'dropoff_loc_name', 'trip_distance', 'fare_amount'])\n",
    "    \n",
    "    def generate_statistics(self, stat):\n",
    "        def stat_trip():\n",
    "            trip_dir = os.path.join(self.data_dir, 'trips.csv')\n",
    "            if os.path.exists(trip_dir):\n",
    "                df_trips = pd.read_csv(trip_dir)\n",
    "                df_trips['pickup_datetime'] = pd.to_datetime(df_trips['pickup_datetime'], format='%H:%M:%S,%d-%m-%Y')\n",
    "                df_trips['day_name'] = df_trips['pickup_datetime'].dt.day_name()\n",
    "                df_tripcount = df_trips.groupby(['day_name', pd.Grouper(key='pickup_datetime', freq='1D')])['trip_id'].count().reset_index()\n",
    "                sr_tripave = df_tripcount.groupby('day_name')['trip_id'].mean()\n",
    "                tripave_dict = sr_tripave.to_dict()\n",
    "                return tripave_dict\n",
    "            else:\n",
    "                return {}\n",
    "\n",
    "        def stat_passenger():\n",
    "            trip_dir = os.path.join(self.data_dir, 'trips.csv')\n",
    "            if os.path.exists(trip_dir):\n",
    "                df_trips = pd.read_csv(trip_dir)\n",
    "                df_trips['pickup_datetime'] = pd.to_datetime(df_trips['pickup_datetime'], format='%H:%M:%S,%d-%m-%Y')\n",
    "                df_trips['day_name'] = df_trips['pickup_datetime'].dt.day_name()\n",
    "                df_tripcount = df_trips.groupby(['passenger_count', 'day_name', pd.Grouper(key='pickup_datetime', freq='1D')])['trip_id'].count().reset_index()\n",
    "                df_tripave = df_tripcount.groupby(['passenger_count', 'day_name'])['trip_id'].mean().reset_index()\n",
    "                tripave_dict = df_tripave.groupby('passenger_count').apply(lambda x: dict(zip(x['day_name'], x['trip_id']))).to_dict()\n",
    "                return tripave_dict\n",
    "            else:\n",
    "                return {}\n",
    "\n",
    "        def stat_driver():\n",
    "            trip_dir = os.path.join(self.data_dir, 'trips.csv')\n",
    "            driver_dir = os.path.join(self.data_dir, 'drivers.csv')\n",
    "            if os.path.exists(trip_dir) and os.path.exists(driver_dir):\n",
    "                df_trips = pd.read_csv(trip_dir)\n",
    "                df_drivers = pd.read_csv(driver_dir)\n",
    "                df_trips['pickup_datetime'] = pd.to_datetime(df_trips['pickup_datetime'], format='%H:%M:%S,%d-%m-%Y')\n",
    "                df_trips['day_name'] = df_trips['pickup_datetime'].dt.day_name()\n",
    "                df_trips = df_trips.merge(df_drivers, how='left', on='driver_id')\n",
    "                df_trips['full_name'] = df_trips['last_name'] + ', ' + df_trips['given_name']\n",
    "                df_tripcount = df_trips.groupby(['full_name', 'day_name', pd.Grouper(key='pickup_datetime', freq='1D')])['trip_id'].count().reset_index()\n",
    "                df_tripave = df_tripcount.groupby(['full_name', 'day_name'])['trip_id'].mean().reset_index()\n",
    "                tripave_dict = df_tripave.groupby('full_name').apply(lambda x: dict(zip(x['day_name'], x['trip_id']))).to_dict()\n",
    "                return tripave_dict\n",
    "            else:\n",
    "                return {}\n",
    "\n",
    "        if stat == 'trip':\n",
    "            return stat_trip()\n",
    "        elif stat == 'passenger':\n",
    "            return stat_passenger()\n",
    "        elif stat == 'driver':\n",
    "            return stat_driver()\n",
    "        elif stat == 'all':\n",
    "            return {'trip': stat_trip(), 'passenger': stat_passenger(), 'driver': stat_driver()}\n",
    "        else:\n",
    "            raise SakayDBError\n",
    "            \n",
    "    def plot_statistics(self, stat):\n",
    "        if stat == 'trip':\n",
    "            stat_dict = self.generate_statistics(stat)\n",
    "\n",
    "            # Creating dataframe from the dictionary\n",
    "            sr_tripave = pd.Series(stat_dict, name='DateValue')\n",
    "            day_order = ['Monday', 'Tuesday', 'Wednesday', 'Thursday', 'Friday', 'Saturday', 'Sunday']\n",
    "            sr_tripave = sr_tripave.reindex(day_order)\n",
    "\n",
    "            # Creating plot\n",
    "            ax = sr_tripave.plot(kind='bar', figsize=(12, 8))\n",
    "            ax.set(xlabel='Day of week', ylabel='Ave Trips', title='Average trips per day')\n",
    "            plt.show()\n",
    "\n",
    "            return ax\n",
    "        elif stat == 'passenger':\n",
    "            stat_dict = self.generate_statistics(stat)\n",
    "\n",
    "            # Creating dataframe from the dictionary\n",
    "            passenger_count = []\n",
    "            weeknames = []\n",
    "            for passenger, weekname in stat_dict.items():\n",
    "                passenger_count.append(passenger)\n",
    "                weeknames.append(pd.DataFrame.from_dict(weekname, orient='index'))\n",
    "            df = pd.concat(weeknames, keys=passenger_count).reset_index()\n",
    "            df.rename(columns={'level_1': 'day name', 'level_0': 'passenger_count'}, inplace=True)\n",
    "            df = df.pivot(index='day name', columns='passenger_count', values=0)\n",
    "            day_order = ['Monday', 'Tuesday', 'Wednesday', 'Thursday', 'Friday', 'Saturday', 'Sunday']\n",
    "            df = df.reindex(day_order)\n",
    "\n",
    "            # Creating plot\n",
    "            ax = df.plot(kind='line', figsize=(12, 8), marker='o')\n",
    "            ax.set(xlabel='Day of week', ylabel='Ave Trips')\n",
    "            plt.show()\n",
    "\n",
    "            return ax\n",
    "        elif stat == 'driver':\n",
    "            stat_dict = self.generate_statistics(stat)\n",
    "\n",
    "            # Creating dataframe from the dictionary\n",
    "            drivers = []\n",
    "            daynames = []\n",
    "            for driver, dayname in stat_dict.items():\n",
    "                drivers.append(driver)\n",
    "                daynames.append(pd.DataFrame.from_dict(dayname, orient='index'))\n",
    "            df = pd.concat(daynames, keys=drivers).reset_index()\n",
    "            df.rename(columns={'level_1': 'day_name', 'level_0': 'driver_name', 0: 'ave_trips'}, inplace=True)\n",
    "            df = df.pivot(index='driver_name', columns='day_name', values='ave_trips')\n",
    "            day_order = ['Monday', 'Tuesday', 'Wednesday', 'Thursday', 'Friday', 'Saturday', 'Sunday']\n",
    "\n",
    "            # Creating plot\n",
    "            fig, ax = plt.subplots(nrows=7, sharex=True, figsize=(8, 25))\n",
    "            for index, day in enumerate(day_order):\n",
    "                df_day = df[day].nlargest(5).sort_values(ascending=False)\n",
    "                df_day.plot(ax=ax[index], kind='barh', y=day, x='driver_name', legend=True)\n",
    "                ax[index].set(ylabel=None, xlabel='Ave Trips')\n",
    "            plt.show()\n",
    "\n",
    "            return fig\n",
    "        else:\n",
    "            raise SakayDBError\n",
    "            \n",
    "    def generate_odmatrix(self, date_range=None):\n",
    "        # Loading data frame\n",
    "        trip_dir = os.path.join(self.data_dir, 'trips.csv')\n",
    "        loc_dir = os.path.join(self.data_dir, 'locations.csv')\n",
    "\n",
    "        # Checking if the file exists\n",
    "        if os.path.exists(trip_dir) and os.path.exists(loc_dir):\n",
    "            df_trips = pd.read_csv(trip_dir)\n",
    "            df_locs = pd.read_csv(loc_dir)\n",
    "        else:\n",
    "            return pd.DataFrame()\n",
    "\n",
    "        # Merging and formatting of dataframes to get location names\n",
    "        df_trips = df_trips.merge(df_locs, left_on='pickup_loc_id', right_on='location_id', how='left')\n",
    "        df_trips = df_trips.merge(df_locs, left_on='dropoff_loc_id', right_on='location_id', how='left')\n",
    "        df_trips.rename(columns={'loc_name_x':'pickup_loc_name', 'loc_name_y':'dropoff_loc_name'}, inplace=True)\n",
    "        df_trips = df_trips[['pickup_datetime', 'pickup_loc_name', 'dropoff_loc_name']]\n",
    "        df_trips['pickup_datetime'] = pd.to_datetime(df_trips['pickup_datetime'], format='%H:%M:%S,%d-%m-%Y')\n",
    "\n",
    "        # Filters data base on date_range\n",
    "        if type(date_range) is tuple:\n",
    "            if len(date_range) != 2:\n",
    "                raise SakayDBError\n",
    "            else:\n",
    "                try: \n",
    "                    if date_range[0] is not None and date_range[1] is None:\n",
    "                        start_date = pd.to_datetime(date_range[0], format='%H:%M:%S,%d-%m-%Y')\n",
    "                        df_trips = df_trips[df_trips['pickup_datetime'] >= start_date]\n",
    "                    elif date_range[0] is None and date_range[1] is not None:\n",
    "                        end_date = pd.to_datetime(date_range[1], format='%H:%M:%S,%d-%m-%Y')\n",
    "                        df_trips = df_trips[df_trips['pickup_datetime'] <= end_date]\n",
    "                    elif date_range[0] is not None and date_range[1] is not None:\n",
    "                        start_date = pd.to_datetime(date_range[0], format='%H:%M:%S,%d-%m-%Y')\n",
    "                        end_date = pd.to_datetime(date_range[1], format='%H:%M:%S,%d-%m-%Y')\n",
    "                        df_trips = df_trips[(df_trips['pickup_datetime'] >= start_date) & (df_trips['pickup_datetime'] <= end_date)]\n",
    "                except:\n",
    "                    raise SakayDBError\n",
    "        elif date_range is None:\n",
    "            pass\n",
    "        else:\n",
    "            raise SakayDBError\n",
    "\n",
    "        # Calculating the average daily number of trips\n",
    "        df_trips['pickup_datetime'] = df_trips['pickup_datetime'].dt.date\n",
    "        df_trips['uniquedate'] = df_trips.groupby(['pickup_loc_name','dropoff_loc_name'])['pickup_datetime'].transform('nunique')\n",
    "        df_uniqdates = df_trips.pivot_table(index='dropoff_loc_name', columns='pickup_loc_name', values='uniquedate', aggfunc='mean')\n",
    "        od_df = pd.crosstab(index=df_trips['dropoff_loc_name'], columns=df_trips['pickup_loc_name'])\n",
    "        od_df = od_df / df_uniqdates\n",
    "        od_df = od_df.fillna(0)\n",
    "\n",
    "        return od_df\n",
    "    \n",
    "    # joy\n",
    "    # jamwung yay\n",
    "    # lj yap yay"
   ]
  },
  {
   "cell_type": "markdown",
   "id": "684aaf5f",
   "metadata": {
    "heading_collapsed": true
   },
   "source": [
    "# Quick Test"
   ]
  },
  {
   "cell_type": "code",
   "execution_count": null,
   "id": "2a34acc1",
   "metadata": {
    "hidden": true
   },
   "outputs": [],
   "source": []
  },
  {
   "cell_type": "code",
   "execution_count": null,
   "id": "bfaded3d",
   "metadata": {
    "hidden": true
   },
   "outputs": [],
   "source": []
  },
  {
   "cell_type": "code",
   "execution_count": null,
   "id": "e5a107db",
   "metadata": {
    "hidden": true
   },
   "outputs": [],
   "source": []
  },
  {
   "cell_type": "markdown",
   "id": "830a2ec3",
   "metadata": {
    "heading_collapsed": true
   },
   "source": [
    "# Tracking Assert Test"
   ]
  },
  {
   "cell_type": "markdown",
   "id": "9dd2ab49",
   "metadata": {
    "heading_collapsed": true,
    "hidden": true
   },
   "source": [
    "## Initialization"
   ]
  },
  {
   "cell_type": "code",
   "execution_count": 45,
   "id": "646adfb9",
   "metadata": {
    "ExecuteTime": {
     "end_time": "2022-08-28T03:22:04.680016Z",
     "start_time": "2022-08-28T03:22:04.672346Z"
    },
    "hidden": true
   },
   "outputs": [
    {
     "name": "stdout",
     "output_type": "stream",
     "text": [
      ". .\n"
     ]
    }
   ],
   "source": [
    "sakay_db = SakayDB('.')\n",
    "print(sakay_db.data_dir, '.')"
   ]
  },
  {
   "cell_type": "markdown",
   "id": "6aab7a20",
   "metadata": {
    "heading_collapsed": true,
    "hidden": true
   },
   "source": [
    "## Adding a trip to the database"
   ]
  },
  {
   "cell_type": "code",
   "execution_count": 48,
   "id": "34b430d5",
   "metadata": {
    "ExecuteTime": {
     "end_time": "2022-08-28T03:23:50.375225Z",
     "start_time": "2022-08-28T03:23:50.322563Z"
    },
    "hidden": true
   },
   "outputs": [
    {
     "name": "stdout",
     "output_type": "stream",
     "text": [
      "1 1\n"
     ]
    },
    {
     "data": {
      "text/plain": [
       "{'driver_id',\n",
       " 'dropoff_datetime',\n",
       " 'dropoff_loc_id',\n",
       " 'fare_amount',\n",
       " 'passenger_count',\n",
       " 'pickup_datetime',\n",
       " 'pickup_loc_id',\n",
       " 'trip_distance',\n",
       " 'trip_id'}"
      ]
     },
     "metadata": {},
     "output_type": "display_data"
    },
    {
     "data": {
      "text/plain": [
       "{'driver_id',\n",
       " 'dropoff_datetime',\n",
       " 'dropoff_loc_id',\n",
       " 'fare_amount',\n",
       " 'passenger_count',\n",
       " 'pickup_datetime',\n",
       " 'pickup_loc_id',\n",
       " 'trip_distance',\n",
       " 'trip_id'}"
      ]
     },
     "metadata": {},
     "output_type": "display_data"
    },
    {
     "data": {
      "text/plain": [
       "[[1, 1, '08:13:00,15-05-2022', '08:46:00,15-05-2022', 2, 1, 2, 17.6, 412.0]]"
      ]
     },
     "metadata": {},
     "output_type": "display_data"
    },
    {
     "data": {
      "text/plain": [
       "[[1, 1, '08:13:00,15-05-2022', '08:46:00,15-05-2022', 2, 1, 2, 17.6, 412]]"
      ]
     },
     "metadata": {},
     "output_type": "display_data"
    },
    {
     "name": "stdout",
     "output_type": "stream",
     "text": [
      "[0] [0]\n",
      "{'last_name', 'driver_id', 'given_name'} {'last_name', 'driver_id', 'given_name'}\n",
      "[[1, 'Damian', 'Dailisan']] [[1, 'Damian', 'Dailisan']]\n",
      "[0] [0]\n"
     ]
    }
   ],
   "source": [
    "trip_columns = ['trip_id', 'driver_id', 'pickup_datetime', 'dropoff_datetime',\n",
    "                'passenger_count', 'pickup_loc_id', 'dropoff_loc_id',\n",
    "                'trip_distance', 'fare_amount']\n",
    "driver_columns = ['driver_id', 'given_name', 'last_name']\n",
    "with TemporaryDirectory() as temp_dir:\n",
    "    sakay_db = SakayDB(temp_dir)\n",
    "    shutil.copy('locations.csv', os.path.join(temp_dir, 'locations.csv'))\n",
    "    print(\n",
    "        sakay_db.add_trip('Dailisan, Damian', '08:13:00,15-05-2022',\n",
    "                          '08:46:00,15-05-2022', 2,\n",
    "                          'UP Campus', 'Legazpi Village', 17.6, 412),\n",
    "        1\n",
    "    )\n",
    "    assert_raises(\n",
    "        SakayDBError,\n",
    "        lambda: sakay_db.add_trip('Dailisan, Damian', '08:13:00,15-05-2022',\n",
    "                                  '08:46:00,15-05-2022', 2, 'UP Campus',\n",
    "                                  'Legazpi Village', 17.6, 412)\n",
    "    )\n",
    "    df_trips = pd.read_csv(os.path.join(temp_dir, 'trips.csv'))\n",
    "    display(\n",
    "        set(df_trips.columns.tolist()),\n",
    "        set(trip_columns)\n",
    "    )\n",
    "    display(\n",
    "        df_trips.to_numpy().tolist(),\n",
    "        [[1, 1, '08:13:00,15-05-2022',\n",
    "          '08:46:00,15-05-2022',\n",
    "          2, 1, 2, 17.6, 412]]\n",
    "    )\n",
    "    print(\n",
    "        df_trips.index.tolist(),\n",
    "        [0]\n",
    "    )\n",
    "    df_drivers = pd.read_csv(os.path.join(temp_dir, 'drivers.csv'))\n",
    "    print(\n",
    "        set(df_drivers.columns.tolist()),\n",
    "        set(driver_columns)\n",
    "    )\n",
    "    print(\n",
    "        df_drivers[driver_columns].to_numpy().tolist(),\n",
    "        [[1, 'Damian', 'Dailisan']]\n",
    "    )\n",
    "    print(\n",
    "        df_drivers.index.tolist(),\n",
    "        [0]\n",
    "    )"
   ]
  },
  {
   "cell_type": "code",
   "execution_count": 49,
   "id": "28e7be5e",
   "metadata": {
    "ExecuteTime": {
     "end_time": "2022-08-28T03:24:23.423668Z",
     "start_time": "2022-08-28T03:24:23.344695Z"
    },
    "hidden": true
   },
   "outputs": [
    {
     "name": "stdout",
     "output_type": "stream",
     "text": [
      "1 1\n",
      "2 2\n",
      "3 3\n",
      "4 4\n"
     ]
    }
   ],
   "source": [
    "with TemporaryDirectory() as temp_dir:\n",
    "    sakay_db = SakayDB(temp_dir)\n",
    "    shutil.copy('locations.csv', os.path.join(temp_dir, 'locations.csv'))\n",
    "    print(\n",
    "        sakay_db.add_trip('Dailisan, Damian', '08:13:00,15-05-2022',\n",
    "                          '08:46:00,15-05-2022', 2,\n",
    "                          'UP Campus', 'Legazpi Village', 17.6, 412),\n",
    "        1\n",
    "    )\n",
    "    print(\n",
    "        sakay_db.add_trip('Dorosan, Michael', '14:13:00,31-12-2022',\n",
    "                          '14:46:00,31-12-2022', 1,\n",
    "                          'Fairview', 'Highway Hills', 15.1, 371),\n",
    "        2\n",
    "    )\n",
    "    print(\n",
    "        sakay_db.add_trip('Alis, Christian', '09:13:00,16-08-2022',\n",
    "                          '09:46:00,16-08-2022', 3,\n",
    "                          'Loyola Heights', 'Legazpi Village', 8.9, 235),\n",
    "        3\n",
    "    )\n",
    "    print(\n",
    "        sakay_db.add_trip('Dailisan, Damian', '15:13:00,09-09-2022',\n",
    "                          '15:46:00,09-09-2022', 2,\n",
    "                          'Pasong Putik', 'San Antonio', 31.2, 716),\n",
    "        4\n",
    "    )\n",
    "    assert_raises(\n",
    "        SakayDBError,\n",
    "        lambda: sakay_db.add_trip('Alis, Christian', '09:13:00,16-08-2022',\n",
    "                                  '09:46:00,16-08-2022', 3,\n",
    "                                  'Loyola Heights', 'Legazpi Village', 8.9, 235)\n",
    "    )"
   ]
  },
  {
   "cell_type": "code",
   "execution_count": 50,
   "id": "c478a059",
   "metadata": {
    "ExecuteTime": {
     "end_time": "2022-08-28T03:24:52.072781Z",
     "start_time": "2022-08-28T03:24:52.010356Z"
    },
    "hidden": true
   },
   "outputs": [
    {
     "name": "stdout",
     "output_type": "stream",
     "text": [
      "1 1\n",
      "2 2\n",
      "3 3\n"
     ]
    }
   ],
   "source": [
    "with TemporaryDirectory() as temp_dir:\n",
    "    sakay_db = SakayDB(temp_dir)\n",
    "    shutil.copy('locations.csv', os.path.join(temp_dir, 'locations.csv'))\n",
    "    print(\n",
    "        sakay_db.add_trip('Dailisan, Damian', '08:13:00,15-05-2022',\n",
    "                          '08:46:00,15-05-2022', 2,\n",
    "                          'UP Campus', 'Legazpi Village', 17.6, 412),\n",
    "        1\n",
    "    )\n",
    "    print(\n",
    "        sakay_db.add_trip('Dailisan, Damian', '14:13:00,31-12-2022',\n",
    "                          '14:46:00,31-12-2022', 1,\n",
    "                          'Fairview', 'Highway Hills', 15.1, 371),\n",
    "        2\n",
    "    )\n",
    "    print(\n",
    "        sakay_db.add_trip('Dailisan, Damian', '09:13:00,16-08-2022',\n",
    "                          '09:46:00,16-08-2022', 3,\n",
    "                          'Fairview', 'Highway Hills', 17.6, 412),\n",
    "        3\n",
    "    )\n",
    "    assert_raises(\n",
    "        SakayDBError,\n",
    "        lambda: sakay_db.add_trip(' Dailisan, Damian ', '09:13:00,16-08-2022',\n",
    "                                  '09:46:00,16-08-2022', 3,\n",
    "                                  ' Fairview ', ' Highway Hills', 17.6, 412)\n",
    "    )"
   ]
  },
  {
   "cell_type": "markdown",
   "id": "09f985bd",
   "metadata": {
    "heading_collapsed": true,
    "hidden": true
   },
   "source": [
    "## Adding trips in the database"
   ]
  },
  {
   "cell_type": "code",
   "execution_count": 54,
   "id": "834038ad",
   "metadata": {
    "ExecuteTime": {
     "end_time": "2022-08-28T03:27:28.115421Z",
     "start_time": "2022-08-28T03:27:28.050715Z"
    },
    "hidden": true
   },
   "outputs": [
    {
     "name": "stdout",
     "output_type": "stream",
     "text": [
      "Warning: trip index 2 has invalid or incomplete information. Skipping...\n",
      "Warning: trip index 4 is already in the database. Skipping...\n"
     ]
    }
   ],
   "source": [
    "with TemporaryDirectory() as temp_dir:\n",
    "    sakay_db = SakayDB(temp_dir)\n",
    "    shutil.copy('locations.csv', os.path.join(temp_dir, 'locations.csv'))\n",
    "    sakay_db.add_trips([\n",
    "        {'driver': 'Dailisan, Damian',\n",
    "         'pickup_datetime': '08:13:00,15-05-2022',\n",
    "         'dropoff_datetime': '08:46:00,15-05-2022',\n",
    "         'passenger_count': 2,\n",
    "         'pickup_loc_name': 'UP Campus',\n",
    "         'dropoff_loc_name': 'Legazpi Village',\n",
    "         'trip_distance': 17.6,\n",
    "         'fare_amount': 412},\n",
    "        {'driver': 'Dorosan, Michael',\n",
    "         'pickup_datetime': '14:13:00,31-12-2022',\n",
    "         'dropoff_datetime': '14:46:00,31-12-2022',\n",
    "         'passenger_count': 1,\n",
    "         'pickup_loc_name': 'Fairview',\n",
    "         'dropoff_loc_name': 'Highway Hills',\n",
    "         'trip_distance': 15.1,\n",
    "         'fare_amount': 371},\n",
    "        {'driver': 'Alis, Christian',\n",
    "         'pickup_datetime': '09:13:00,16-08-2022',\n",
    "         'dropoff_datetime': '09:46:00,16-08-2022',\n",
    "         'pickup_loc_name': 'Loyola Heights',\n",
    "         'dropoff_loc_name': 'Legazpi Village',\n",
    "         'trip_distance': 8.9,\n",
    "         'fare_amount': 235},\n",
    "        {'driver': 'Dailisan, Damian',\n",
    "         'pickup_datetime': '15:13:00,09-09-2022',\n",
    "         'dropoff_datetime': '15:46:00,09-09-2022',\n",
    "         'passenger_count': 2,\n",
    "         'pickup_loc_name': 'Pasong Putik',\n",
    "         'dropoff_loc_name': 'San Antonio',\n",
    "         'trip_distance': 31.2,\n",
    "         'fare_amount': 716},\n",
    "        {'driver': 'Dorosan, Michael',\n",
    "         'pickup_datetime': '14:13:00,31-12-2022',\n",
    "         'dropoff_datetime': '14:46:00,31-12-2022',\n",
    "         'passenger_count': 1,\n",
    "         'pickup_loc_name': 'Fairview',\n",
    "         'dropoff_loc_name': 'Highway Hills',\n",
    "         'trip_distance': 15.1,\n",
    "         'fare_amount': 371}\n",
    "    ])"
   ]
  },
  {
   "cell_type": "code",
   "execution_count": 55,
   "id": "1cfb471d",
   "metadata": {
    "ExecuteTime": {
     "end_time": "2022-08-28T03:27:52.655881Z",
     "start_time": "2022-08-28T03:27:52.650028Z"
    },
    "hidden": true
   },
   "outputs": [],
   "source": [
    "# assert_equal(\n",
    "#     out.stdout,\n",
    "#     'Warning: trip index 2 has invalid or incomplete information. '\n",
    "#     'Skipping...\\n'\n",
    "#     'Warning: trip index 4 is already in the database. Skipping...\\n'\n",
    "# )"
   ]
  },
  {
   "cell_type": "markdown",
   "id": "2794aae2",
   "metadata": {
    "heading_collapsed": true,
    "hidden": true
   },
   "source": [
    "## Deleting a trip in the database"
   ]
  },
  {
   "cell_type": "code",
   "execution_count": 59,
   "id": "df0bc879",
   "metadata": {
    "ExecuteTime": {
     "end_time": "2022-08-28T03:29:50.660287Z",
     "start_time": "2022-08-28T03:29:50.636386Z"
    },
    "hidden": true
   },
   "outputs": [],
   "source": [
    "with TemporaryDirectory() as temp_dir:\n",
    "    sakay_db = SakayDB(temp_dir)\n",
    "    assert_raises(SakayDBError, lambda: sakay_db.delete_trip(1))\n",
    "    shutil.copy('trips_test.csv', os.path.join(temp_dir, 'trips.csv'))\n",
    "    shutil.copy('drivers_test.csv', os.path.join(temp_dir, 'drivers.csv'))\n",
    "    sakay_db.delete_trip(1)\n",
    "    assert_raises(SakayDBError, lambda: sakay_db.delete_trip(1))"
   ]
  },
  {
   "cell_type": "markdown",
   "id": "94505f79",
   "metadata": {
    "heading_collapsed": true,
    "hidden": true
   },
   "source": [
    "## Searching for trips in the database"
   ]
  },
  {
   "cell_type": "code",
   "execution_count": 63,
   "id": "1ce61dcb",
   "metadata": {
    "ExecuteTime": {
     "end_time": "2022-08-28T08:43:38.641013Z",
     "start_time": "2022-08-28T08:43:38.569002Z"
    },
    "hidden": true
   },
   "outputs": [
    {
     "data": {
      "text/plain": [
       "[[1, 1, '08:13:00,15-05-2022', '08:46:00,15-05-2022', 2, 1, 2, 17.6, 412],\n",
       " [4, 1, '15:13:00,09-09-2022', '15:46:00,09-09-2022', 2, 6, 7, 31.2, 716]]"
      ]
     },
     "metadata": {},
     "output_type": "display_data"
    },
    {
     "data": {
      "text/plain": [
       "[[1, 1, '08:13:00,15-05-2022', '08:46:00,15-05-2022', 2, 1, 2, 17.6, 412],\n",
       " [4, 1, '15:13:00,09-09-2022', '15:46:00,09-09-2022', 2, 6, 7, 31.2, 716]]"
      ]
     },
     "metadata": {},
     "output_type": "display_data"
    },
    {
     "data": {
      "text/plain": [
       "[[3, 3, '09:13:00,16-08-2022', '09:46:00,16-08-2022', 3, 5, 2, 8.9, 235]]"
      ]
     },
     "metadata": {},
     "output_type": "display_data"
    },
    {
     "data": {
      "text/plain": [
       "[[3, 3, '09:13:00,16-08-2022', '09:46:00,16-08-2022', 3, 5, 2, 8.9, 235]]"
      ]
     },
     "metadata": {},
     "output_type": "display_data"
    },
    {
     "data": {
      "text/plain": [
       "[]"
      ]
     },
     "metadata": {},
     "output_type": "display_data"
    },
    {
     "data": {
      "text/plain": [
       "[]"
      ]
     },
     "metadata": {},
     "output_type": "display_data"
    },
    {
     "data": {
      "text/plain": [
       "[[1, 1, '08:13:00,15-05-2022', '08:46:00,15-05-2022', 2, 1, 2, 17.6, 412]]"
      ]
     },
     "metadata": {},
     "output_type": "display_data"
    },
    {
     "data": {
      "text/plain": [
       "[[1, 1, '08:13:00,15-05-2022', '08:46:00,15-05-2022', 2, 1, 2, 17.6, 412]]"
      ]
     },
     "metadata": {},
     "output_type": "display_data"
    },
    {
     "data": {
      "text/plain": [
       "[[1, 1, '08:13:00,15-05-2022', '08:46:00,15-05-2022', 2, 1, 2, 17.6, 412],\n",
       " [3, 3, '09:13:00,16-08-2022', '09:46:00,16-08-2022', 3, 5, 2, 8.9, 235]]"
      ]
     },
     "metadata": {},
     "output_type": "display_data"
    },
    {
     "data": {
      "text/plain": [
       "[[1, 1, '08:13:00,15-05-2022', '08:46:00,15-05-2022', 2, 1, 2, 17.6, 412],\n",
       " [3, 3, '09:13:00,16-08-2022', '09:46:00,16-08-2022', 3, 5, 2, 8.9, 235]]"
      ]
     },
     "metadata": {},
     "output_type": "display_data"
    }
   ],
   "source": [
    "with TemporaryDirectory() as temp_dir:\n",
    "    sakay_db = SakayDB(temp_dir)\n",
    "    assert_raises(SakayDBError, lambda: sakay_db.search_trips())\n",
    "    assert_equal(sakay_db.search_trips(driver_id=1), [])\n",
    "    shutil.copy('trips_test.csv', os.path.join(temp_dir, 'trips.csv'))\n",
    "    shutil.copy('drivers_test.csv', os.path.join(temp_dir, 'drivers.csv'))\n",
    "    assert_raises(SakayDBError, lambda: sakay_db.search_trips())\n",
    "\n",
    "    display(sakay_db.search_trips(driver_id=1).to_numpy().tolist(),\n",
    "                 [[1, 1, '08:13:00,15-05-2022', '08:46:00,15-05-2022', 2, 1, 2, 17.6, 412],\n",
    "                  [4, 1, '15:13:00,09-09-2022', '15:46:00,09-09-2022', 2, 6, 7, 31.2, 716]]\n",
    "                 )\n",
    "    display(sakay_db.search_trips(fare_amount=(None, 300)).to_numpy().tolist(),\n",
    "                 [[3, 3, '09:13:00,16-08-2022', '09:46:00,16-08-2022', 3, 5, 2, 8.9, 235]]\n",
    "                 )\n",
    "    display(sakay_db.search_trips(driver_id=1, fare_amount=(None, 300)).to_numpy().tolist(),\n",
    "                 [])\n",
    "    display(sakay_db.search_trips(driver_id=1, fare_amount=(200, 500)).to_numpy().tolist(),\n",
    "                 [[1, 1, '08:13:00,15-05-2022', '08:46:00,15-05-2022', 2, 1, 2, 17.6, 412]])\n",
    "\n",
    "    display(sakay_db.search_trips(\n",
    "                 pickup_datetime=('00:00:00,1-05-2022', '23:59:59,31-08-2022')\n",
    "                 ).to_numpy().tolist(),\n",
    "                 [[1, 1, '08:13:00,15-05-2022', '08:46:00,15-05-2022', 2, 1, 2, 17.6, 412],\n",
    "                  [3, 3, '09:13:00,16-08-2022', '09:46:00,16-08-2022', 3, 5, 2, 8.9, 235]]\n",
    "                 )"
   ]
  },
  {
   "cell_type": "markdown",
   "id": "a9cf64bb",
   "metadata": {
    "heading_collapsed": true,
    "hidden": true
   },
   "source": [
    "## Exporting data"
   ]
  },
  {
   "cell_type": "code",
   "execution_count": 42,
   "id": "15cfa7b1",
   "metadata": {
    "ExecuteTime": {
     "end_time": "2022-08-28T03:15:38.796039Z",
     "start_time": "2022-08-28T03:15:38.740074Z"
    },
    "hidden": true
   },
   "outputs": [
    {
     "name": "stdout",
     "output_type": "stream",
     "text": [
      "True True\n"
     ]
    },
    {
     "data": {
      "text/plain": [
       "{'driver_givenname',\n",
       " 'driver_lastname',\n",
       " 'dropoff_datetime',\n",
       " 'dropoff_loc_name',\n",
       " 'fare_amount',\n",
       " 'passenger_count',\n",
       " 'pickup_datetime',\n",
       " 'pickup_loc_name',\n",
       " 'trip_distance'}"
      ]
     },
     "metadata": {},
     "output_type": "display_data"
    },
    {
     "data": {
      "text/plain": [
       "{'driver_givenname',\n",
       " 'driver_lastname',\n",
       " 'dropoff_datetime',\n",
       " 'dropoff_loc_name',\n",
       " 'fare_amount',\n",
       " 'passenger_count',\n",
       " 'pickup_datetime',\n",
       " 'pickup_loc_name',\n",
       " 'trip_distance'}"
      ]
     },
     "metadata": {},
     "output_type": "display_data"
    },
    {
     "name": "stdout",
     "output_type": "stream",
     "text": [
      "True True\n"
     ]
    },
    {
     "data": {
      "text/plain": [
       "{'driver_givenname',\n",
       " 'driver_lastname',\n",
       " 'dropoff_datetime',\n",
       " 'dropoff_loc_name',\n",
       " 'fare_amount',\n",
       " 'passenger_count',\n",
       " 'pickup_datetime',\n",
       " 'pickup_loc_name',\n",
       " 'trip_distance'}"
      ]
     },
     "metadata": {},
     "output_type": "display_data"
    },
    {
     "data": {
      "text/plain": [
       "{'driver_givenname',\n",
       " 'driver_lastname',\n",
       " 'dropoff_datetime',\n",
       " 'dropoff_loc_name',\n",
       " 'fare_amount',\n",
       " 'passenger_count',\n",
       " 'pickup_datetime',\n",
       " 'pickup_loc_name',\n",
       " 'trip_distance'}"
      ]
     },
     "metadata": {},
     "output_type": "display_data"
    },
    {
     "data": {
      "text/plain": [
       "[['Damian',\n",
       "  'Dailisan',\n",
       "  '08:13:00,15-05-2022',\n",
       "  '08:46:00,15-05-2022',\n",
       "  2,\n",
       "  'UP Campus',\n",
       "  'Legazpi Village',\n",
       "  17.6,\n",
       "  412.0],\n",
       " ['Michael',\n",
       "  'Dorosan',\n",
       "  '14:13:00,31-12-2022',\n",
       "  '14:46:00,31-12-2022',\n",
       "  1,\n",
       "  'Fairview',\n",
       "  'Highway Hills',\n",
       "  15.1,\n",
       "  371.0]]"
      ]
     },
     "metadata": {},
     "output_type": "display_data"
    },
    {
     "data": {
      "text/plain": [
       "[['Damian',\n",
       "  'Dailisan',\n",
       "  '08:13:00,15-05-2022',\n",
       "  '08:46:00,15-05-2022',\n",
       "  2,\n",
       "  'UP Campus',\n",
       "  'Legazpi Village',\n",
       "  17.6,\n",
       "  412],\n",
       " ['Michael',\n",
       "  'Dorosan',\n",
       "  '14:13:00,31-12-2022',\n",
       "  '14:46:00,31-12-2022',\n",
       "  1,\n",
       "  'Fairview',\n",
       "  'Highway Hills',\n",
       "  15.1,\n",
       "  371]]"
      ]
     },
     "metadata": {},
     "output_type": "display_data"
    }
   ],
   "source": [
    "export_columns = ['driver_givenname', 'driver_lastname', 'pickup_datetime', 'dropoff_datetime',\n",
    "                  'passenger_count', 'pickup_loc_name', 'dropoff_loc_name',\n",
    "                  'trip_distance', 'fare_amount']\n",
    "with TemporaryDirectory() as temp_dir:\n",
    "    sakay_db = SakayDB(temp_dir)\n",
    "    df_export = sakay_db.export_data()\n",
    "    print(isinstance(df_export, pd.DataFrame), True)\n",
    "    display(\n",
    "        set(df_export.columns.tolist()),\n",
    "        set(export_columns)\n",
    "    )\n",
    "    assert_equal(len(df_export), 0)\n",
    "    shutil.copy('trips_test.csv', os.path.join(temp_dir, 'trips.csv'))\n",
    "    shutil.copy('drivers_test.csv', os.path.join(temp_dir, 'drivers.csv'))\n",
    "    shutil.copy('locations.csv', os.path.join(temp_dir, 'locations.csv'))\n",
    "    df_export = sakay_db.export_data()\n",
    "    print(isinstance(df_export, pd.DataFrame), True)\n",
    "    display(\n",
    "        set(df_export.columns.tolist()),\n",
    "        set(export_columns)\n",
    "    )\n",
    "    display(\n",
    "        df_export.loc[df_export.index[:2], export_columns].to_numpy().tolist(),\n",
    "        [['Damian', 'Dailisan', '08:13:00,15-05-2022', '08:46:00,15-05-2022', 2, 'UP Campus', 'Legazpi Village', 17.6, 412],\n",
    "         ['Michael', 'Dorosan', '14:13:00,31-12-2022', '14:46:00,31-12-2022', 1, 'Fairview', 'Highway Hills', 15.1, 371]]\n",
    "    )"
   ]
  },
  {
   "cell_type": "markdown",
   "id": "e1eaca01",
   "metadata": {
    "heading_collapsed": true,
    "hidden": true
   },
   "source": [
    "## Generating statistics"
   ]
  },
  {
   "cell_type": "code",
   "execution_count": 23,
   "id": "290a7750",
   "metadata": {
    "ExecuteTime": {
     "end_time": "2022-08-28T01:53:23.782232Z",
     "start_time": "2022-08-28T01:53:23.693276Z"
    },
    "hidden": true
   },
   "outputs": [
    {
     "name": "stdout",
     "output_type": "stream",
     "text": [
      "{} {}\n",
      "{} {}\n",
      "{} {}\n",
      "{'trip': {}, 'passenger': {}, 'driver': {}} {'trip': {}, 'passenger': {}, 'driver': {}}\n",
      "7 7\n",
      "41.794117647058826 41.794117647058826\n",
      "41.714285714285715 41.714285714285715\n"
     ]
    }
   ],
   "source": [
    "with TemporaryDirectory() as temp_dir:\n",
    "    sakay_db = SakayDB(temp_dir)\n",
    "    assert_raises(SakayDBError, lambda: sakay_db.generate_statistics('Trips'))\n",
    "    print(sakay_db.generate_statistics('trip'), {})\n",
    "    print(sakay_db.generate_statistics('passenger'), {})\n",
    "    print(sakay_db.generate_statistics('driver'), {})\n",
    "    print(\n",
    "        sakay_db.generate_statistics('all'),\n",
    "        {'trip': {}, 'passenger': {}, 'driver': {}}\n",
    "    )\n",
    "    shutil.copy('trips_test2.csv', os.path.join(temp_dir, 'trips.csv'))\n",
    "    shutil.copy('drivers_test2.csv',\n",
    "                os.path.join(temp_dir, 'drivers.csv'))\n",
    "    shutil.copy('locations.csv', os.path.join(temp_dir, 'locations.csv'))\n",
    "    stats_trip = sakay_db.generate_statistics('trip')\n",
    "    print(len(stats_trip), 7)\n",
    "    print(stats_trip['Friday'], 41.794117647058826)\n",
    "    print(stats_trip['Sunday'], 41.714285714285715)"
   ]
  },
  {
   "cell_type": "code",
   "execution_count": 25,
   "id": "b351ccc5",
   "metadata": {
    "ExecuteTime": {
     "end_time": "2022-08-28T01:53:59.945160Z",
     "start_time": "2022-08-28T01:53:59.586981Z"
    },
    "hidden": true
   },
   "outputs": [
    {
     "name": "stdout",
     "output_type": "stream",
     "text": [
      "4 4\n",
      "7 7\n",
      "9.371428571428572 9.371428571428572\n",
      "200 200\n",
      "1.0 1\n",
      "{'trip', 'passenger', 'driver'} {'trip', 'passenger', 'driver'}\n",
      "7 7\n",
      "39.74285714285714 39.74285714285714\n",
      "4 4\n",
      "9.371428571428572 9.371428571428572\n",
      "1.0 1\n",
      "200 200\n"
     ]
    }
   ],
   "source": [
    "with TemporaryDirectory() as temp_dir:\n",
    "    sakay_db = SakayDB(temp_dir)\n",
    "    shutil.copy('trips_test2.csv', os.path.join(temp_dir, 'trips.csv'))\n",
    "    shutil.copy('drivers_test2.csv',\n",
    "                os.path.join(temp_dir, 'drivers.csv'))\n",
    "    shutil.copy('locations.csv', os.path.join(temp_dir, 'locations.csv'))\n",
    "    stats_passenger = sakay_db.generate_statistics('passenger')\n",
    "    print(len(stats_passenger), 4)\n",
    "    print(len(stats_passenger[0]), 7)\n",
    "    print(\n",
    "        stats_passenger[0]['Monday'],\n",
    "        9.371428571428572\n",
    "    )\n",
    "    stats_driver = sakay_db.generate_statistics('driver')\n",
    "\n",
    "    print(len(stats_driver), 200)\n",
    "    print(\n",
    "        stats_driver['Dome, Benyamin']['Saturday'],\n",
    "        1\n",
    "    )\n",
    "    stats_all = sakay_db.generate_statistics('all')\n",
    "    print(set(stats_all.keys()), {'trip', 'passenger', 'driver'})\n",
    "    print(len(stats_all['trip']), 7)\n",
    "    print(stats_all['trip']['Tuesday'], 39.74285714285714)\n",
    "    print(len(stats_all['passenger']), 4)\n",
    "    print(stats_all['passenger'][0]['Monday'],\n",
    "                        9.371428571428572)\n",
    "    print(\n",
    "        stats_all['driver']['Dome, Benyamin']['Saturday'],\n",
    "        1\n",
    "    )\n",
    "    print(len(stats_all['driver']), 200)"
   ]
  },
  {
   "cell_type": "markdown",
   "id": "fdcdb37c",
   "metadata": {
    "heading_collapsed": true,
    "hidden": true
   },
   "source": [
    "## Plotting statistics"
   ]
  },
  {
   "cell_type": "code",
   "execution_count": 66,
   "id": "977a73dd",
   "metadata": {
    "ExecuteTime": {
     "end_time": "2022-08-29T10:20:05.610519Z",
     "start_time": "2022-08-29T10:20:03.884831Z"
    },
    "hidden": true
   },
   "outputs": [
    {
     "data": {
      "image/png": "[encoded data removed]",
      "text/plain": [
       "<Figure size 864x576 with 1 Axes>"
      ]
     },
     "metadata": {
      "needs_background": "light"
     },
     "output_type": "display_data"
    },
    {
     "name": "stdout",
     "output_type": "stream",
     "text": [
      "Average trips per day Average trips per day\n",
      "['Monday', 'Tuesday', 'Wednesday', 'Thursday', 'Friday', 'Saturday', 'Sunday'] ['Monday', 'Tuesday', 'Wednesday', 'Thursday', 'Friday', 'Saturday', 'Sunday']\n",
      "['0', '5', '10', '15', '20', '25', '30', '35', '40', '45'] ['0', '5', '10', '15', '20', '25', '30', '35', '40', '45']\n",
      "[12.  8.] (12, 8)\n",
      "Ave Trips Ave Trips\n",
      "Day of week Day of week\n"
     ]
    },
    {
     "data": {
      "image/png": "[encoded data removed]",
      "text/plain": [
       "<Figure size 864x576 with 1 Axes>"
      ]
     },
     "metadata": {
      "needs_background": "light"
     },
     "output_type": "display_data"
    },
    {
     "name": "stdout",
     "output_type": "stream",
     "text": [
      "Ave Trips Ave Trips\n",
      "Day of week Day of week\n",
      "[9.0, 9.25, 9.5, 9.75, 10.0, 10.25, 10.5, 10.75, 11.0, 11.25, 11.5] [9.0, 9.25, 9.5, 9.75, 10.0, 10.25, 10.5, 10.75, 11.0, 11.25, 11.5]\n",
      "['0', '1', '2', '3'] ['0', '1', '2', '3']\n",
      "0 0\n",
      "o o\n",
      "- -\n"
     ]
    },
    {
     "data": {
      "image/png": "[encoded data removed]",
      "text/plain": [
       "<Figure size 576x1800 with 7 Axes>"
      ]
     },
     "metadata": {
      "needs_background": "light"
     },
     "output_type": "display_data"
    },
    {
     "name": "stdout",
     "output_type": "stream",
     "text": [
      "[ 8. 25.] (8.0, 25.0)\n",
      "[[0.125, 0.7879268292682927], [0.9, 0.88]] [[0.125, 0.7879268292682927], [0.9, 0.88]]\n",
      "Monday Monday\n",
      "Sunday Sunday\n",
      " \n",
      "[0.  0.5 1.  1.5 2.  2.5 3. ] [0.  0.5 1.  1.5 2.  2.5 3. ]\n"
     ]
    }
   ],
   "source": [
    "from matplotlib.legend import Legend\n",
    "with TemporaryDirectory() as temp_dir:\n",
    "    sakay_db = SakayDB(temp_dir)\n",
    "    shutil.copy('trips_test2.csv', os.path.join(temp_dir, 'trips.csv'))\n",
    "    shutil.copy('drivers_test2.csv',\n",
    "                os.path.join(temp_dir, 'drivers.csv'))\n",
    "    shutil.copy('locations.csv', os.path.join(temp_dir, 'locations.csv'))\n",
    "    \n",
    "    # trip tests\n",
    "    ax_trip = sakay_db.plot_statistics('trip')\n",
    "    ax_trip.get_figure().canvas.draw()\n",
    "    \n",
    "    print(ax_trip.get_title(), 'Average trips per day')\n",
    "    print(\n",
    "        [t.get_text() for t in ax_trip.get_xticklabels()],\n",
    "        ['Monday', 'Tuesday', 'Wednesday', 'Thursday', 'Friday', \n",
    "         'Saturday', 'Sunday']\n",
    "    )\n",
    "    print(\n",
    "        [t.get_text() for t in ax_trip.get_yticklabels()],\n",
    "        ['0', '5', '10', '15', '20', '25', '30', '35', '40', '45']\n",
    "    )\n",
    "    print(ax_trip.figure.get_size_inches(), (12, 8))\n",
    "    print(ax_trip.get_ylabel(), 'Ave Trips')\n",
    "    print(ax_trip.get_xlabel(), 'Day of week')\n",
    "\n",
    "    \n",
    "    # passenger tests\n",
    "    ax_passenger = sakay_db.plot_statistics('passenger')\n",
    "    ax_passenger.get_figure().canvas.draw()\n",
    "    \n",
    "    print(ax_passenger.get_ylabel(), 'Ave Trips')\n",
    "    print(ax_passenger.get_xlabel(), 'Day of week')\n",
    "    print(\n",
    "        [t for t in ax_passenger.get_yticks()],\n",
    "        [9.0, 9.25, 9.5, 9.75, 10.0, 10.25, 10.5, 10.75, 11.0, \n",
    "         11.25, 11.5]\n",
    "    )\n",
    "    \n",
    "    print(\n",
    "        ax_passenger.get_legend_handles_labels()[1],\n",
    "        ['0', '1', '2', '3']\n",
    "    )\n",
    "    print(ax_passenger.lines[0].get_label(), '0')\n",
    "    print(ax_passenger.lines[0].get_marker(), 'o')\n",
    "    print(ax_passenger.lines[0].get_ls(), '-')\n",
    "\n",
    "\n",
    "    # driver tests\n",
    "    ax_driver = sakay_db.plot_statistics('driver')\n",
    "    axes = ax_driver.get_axes()\n",
    "    \n",
    "    print(ax_driver.get_size_inches(), (8.0, 25.0))\n",
    "    print(\n",
    "        axes[0].get_position().get_points().tolist(), \n",
    "        [[0.125, 0.7879268292682927], [0.9, 0.88]]\n",
    "    )\n",
    "    print(axes[0].get_legend_handles_labels()[1][0], 'Monday')\n",
    "    print(axes[6].get_legend_handles_labels()[1][0], 'Sunday')\n",
    "    print(axes[6].get_title(), '')\n",
    "    print(axes[0].get_xticks(), axes[6].get_xticks())\n",
    "    "
   ]
  },
  {
   "cell_type": "markdown",
   "id": "84b8185d",
   "metadata": {
    "heading_collapsed": true,
    "hidden": true
   },
   "source": [
    "## Generate OD matrix"
   ]
  },
  {
   "cell_type": "code",
   "execution_count": 6,
   "id": "6b3adb68",
   "metadata": {
    "ExecuteTime": {
     "end_time": "2022-09-02T08:23:32.564700Z",
     "start_time": "2022-09-02T08:23:32.344754Z"
    },
    "hidden": true
   },
   "outputs": [
    {
     "name": "stdout",
     "output_type": "stream",
     "text": [
      "[] []\n",
      "(48, 48) (48, 48)\n",
      "1.25 1.25\n",
      "0.0 0\n",
      "(48, 48) (48, 48)\n"
     ]
    }
   ],
   "source": [
    "with TemporaryDirectory() as temp_dir:\n",
    "    sakay_db = SakayDB(temp_dir)\n",
    "    print(sakay_db.generate_odmatrix().to_numpy().tolist(), [])\n",
    "    shutil.copy('trips_test2.csv', os.path.join(temp_dir, 'trips.csv'))\n",
    "    shutil.copy('drivers_test2.csv',\n",
    "                os.path.join(temp_dir, 'drivers.csv'))\n",
    "    shutil.copy('locations.csv', os.path.join(temp_dir, 'locations.csv'))\n",
    "    od_df = sakay_db.generate_odmatrix()\n",
    "    print(od_df.shape, (48, 48))\n",
    "    print(od_df.loc['Macpherson', 'UP Campus'], 1.25)\n",
    "    print(od_df.iloc[-2, -2], 0)\n",
    "    print(sakay_db\n",
    "                   .generate_odmatrix(date_range=('00:00:00,1-08-2022', '23:59:59,31-08-2022'))\n",
    "                   .shape, (48, 48))"
   ]
  },
  {
   "cell_type": "markdown",
   "id": "32d75c40",
   "metadata": {
    "heading_collapsed": true
   },
   "source": [
    "# Assertion Testing"
   ]
  },
  {
   "cell_type": "markdown",
   "id": "83a25433",
   "metadata": {
    "heading_collapsed": true,
    "hidden": true
   },
   "source": [
    "## Initialization"
   ]
  },
  {
   "cell_type": "code",
   "execution_count": 10,
   "id": "beabdca9",
   "metadata": {
    "ExecuteTime": {
     "end_time": "2022-09-02T08:26:48.303740Z",
     "start_time": "2022-09-02T08:26:48.296881Z"
    },
    "hidden": true
   },
   "outputs": [],
   "source": [
    "sakay_db = SakayDB('.')\n",
    "assert_equal(sakay_db.data_dir, '.')"
   ]
  },
  {
   "cell_type": "markdown",
   "id": "8dca23e6",
   "metadata": {
    "heading_collapsed": true,
    "hidden": true
   },
   "source": [
    "## Adding a trip to the database"
   ]
  },
  {
   "cell_type": "code",
   "execution_count": 11,
   "id": "113f188c",
   "metadata": {
    "ExecuteTime": {
     "end_time": "2022-09-02T08:26:49.380197Z",
     "start_time": "2022-09-02T08:26:49.321714Z"
    },
    "hidden": true
   },
   "outputs": [],
   "source": [
    "trip_columns = ['trip_id', 'driver_id', 'pickup_datetime', 'dropoff_datetime',\n",
    "                'passenger_count', 'pickup_loc_id', 'dropoff_loc_id',\n",
    "                'trip_distance', 'fare_amount']\n",
    "driver_columns = ['driver_id', 'given_name', 'last_name']\n",
    "with TemporaryDirectory() as temp_dir:\n",
    "    sakay_db = SakayDB(temp_dir)\n",
    "    shutil.copy('locations.csv', os.path.join(temp_dir, 'locations.csv'))\n",
    "    assert_equal(\n",
    "        sakay_db.add_trip('Dailisan, Damian', '08:13:00,15-05-2022',\n",
    "                          '08:46:00,15-05-2022', 2,\n",
    "                          'UP Campus', 'Legazpi Village', 17.6, 412),\n",
    "        1\n",
    "    )\n",
    "    assert_raises(\n",
    "        SakayDBError,\n",
    "        lambda: sakay_db.add_trip('Dailisan, Damian', '08:13:00,15-05-2022',\n",
    "                                  '08:46:00,15-05-2022', 2, 'UP Campus',\n",
    "                                  'Legazpi Village', 17.6, 412)\n",
    "    )\n",
    "    df_trips = pd.read_csv(os.path.join(temp_dir, 'trips.csv'))\n",
    "    assert_equal(\n",
    "        set(df_trips.columns.tolist()),\n",
    "        set(trip_columns)\n",
    "    )\n",
    "    assert_equal(\n",
    "        df_trips.to_numpy().tolist(),\n",
    "        [[1, 1, '08:13:00,15-05-2022',\n",
    "          '08:46:00,15-05-2022',\n",
    "          2, 1, 2, 17.6, 412]]\n",
    "    )\n",
    "    assert_equal(\n",
    "        df_trips.index.tolist(),\n",
    "        [0]\n",
    "    )\n",
    "    df_drivers = pd.read_csv(os.path.join(temp_dir, 'drivers.csv'))\n",
    "    assert_equal(\n",
    "        set(df_drivers.columns.tolist()),\n",
    "        set(driver_columns)\n",
    "    )\n",
    "    assert_equal(\n",
    "        df_drivers[driver_columns].to_numpy().tolist(),\n",
    "        [[1, 'Damian', 'Dailisan']]\n",
    "    )\n",
    "    assert_equal(\n",
    "        df_drivers.index.tolist(),\n",
    "        [0]\n",
    "    )"
   ]
  },
  {
   "cell_type": "code",
   "execution_count": 12,
   "id": "45db2824",
   "metadata": {
    "ExecuteTime": {
     "end_time": "2022-09-02T08:26:51.111891Z",
     "start_time": "2022-09-02T08:26:51.033612Z"
    },
    "hidden": true
   },
   "outputs": [],
   "source": [
    "with TemporaryDirectory() as temp_dir:\n",
    "    sakay_db = SakayDB(temp_dir)\n",
    "    shutil.copy('locations.csv', os.path.join(temp_dir, 'locations.csv'))\n",
    "    assert_equal(\n",
    "        sakay_db.add_trip('Dailisan, Damian', '08:13:00,15-05-2022',\n",
    "                          '08:46:00,15-05-2022', 2,\n",
    "                          'UP Campus', 'Legazpi Village', 17.6, 412),\n",
    "        1\n",
    "    )\n",
    "    assert_equal(\n",
    "        sakay_db.add_trip('Dorosan, Michael', '14:13:00,31-12-2022',\n",
    "                          '14:46:00,31-12-2022', 1,\n",
    "                          'Fairview', 'Highway Hills', 15.1, 371),\n",
    "        2\n",
    "    )\n",
    "    assert_equal(\n",
    "        sakay_db.add_trip('Alis, Christian', '09:13:00,16-08-2022',\n",
    "                          '09:46:00,16-08-2022', 3,\n",
    "                          'Loyola Heights', 'Legazpi Village', 8.9, 235),\n",
    "        3\n",
    "    )\n",
    "    assert_equal(\n",
    "        sakay_db.add_trip('Dailisan, Damian', '15:13:00,09-09-2022',\n",
    "                          '15:46:00,09-09-2022', 2,\n",
    "                          'Pasong Putik', 'San Antonio', 31.2, 716),\n",
    "        4\n",
    "    )\n",
    "    assert_raises(\n",
    "        SakayDBError,\n",
    "        lambda: sakay_db.add_trip('Alis, Christian', '09:13:00,16-08-2022',\n",
    "                                  '09:46:00,16-08-2022', 3,\n",
    "                                  'Loyola Heights', 'Legazpi Village', 8.9, 235)\n",
    "    )"
   ]
  },
  {
   "cell_type": "code",
   "execution_count": 13,
   "id": "c2257974",
   "metadata": {
    "ExecuteTime": {
     "end_time": "2022-09-02T08:26:51.488374Z",
     "start_time": "2022-09-02T08:26:51.429392Z"
    },
    "hidden": true
   },
   "outputs": [],
   "source": [
    "with TemporaryDirectory() as temp_dir:\n",
    "    sakay_db = SakayDB(temp_dir)\n",
    "    shutil.copy('locations.csv', os.path.join(temp_dir, 'locations.csv'))\n",
    "    assert_equal(\n",
    "        sakay_db.add_trip('Dailisan, Damian', '08:13:00,15-05-2022',\n",
    "                          '08:46:00,15-05-2022', 2,\n",
    "                          'UP Campus', 'Legazpi Village', 17.6, 412),\n",
    "        1\n",
    "    )\n",
    "    assert_equal(\n",
    "        sakay_db.add_trip('Dailisan, Damian', '14:13:00,31-12-2022',\n",
    "                          '14:46:00,31-12-2022', 1,\n",
    "                          'Fairview', 'Highway Hills', 15.1, 371),\n",
    "        2\n",
    "    )\n",
    "    assert_equal(\n",
    "        sakay_db.add_trip('Dailisan, Damian', '09:13:00,16-08-2022',\n",
    "                          '09:46:00,16-08-2022', 3,\n",
    "                          'Fairview', 'Highway Hills', 17.6, 412),\n",
    "        3\n",
    "    )\n",
    "    assert_raises(\n",
    "        SakayDBError,\n",
    "        lambda: sakay_db.add_trip(' Dailisan, Damian ', '09:13:00,16-08-2022',\n",
    "                                  '09:46:00,16-08-2022', 3,\n",
    "                                  ' Fairview ', ' Highway Hills', 17.6, 412)\n",
    "    )"
   ]
  },
  {
   "cell_type": "markdown",
   "id": "97c0da09",
   "metadata": {
    "heading_collapsed": true,
    "hidden": true
   },
   "source": [
    "## Adding trips in the database"
   ]
  },
  {
   "cell_type": "code",
   "execution_count": 14,
   "id": "b832c3b5",
   "metadata": {
    "ExecuteTime": {
     "end_time": "2022-09-02T08:26:52.409919Z",
     "start_time": "2022-09-02T08:26:52.346072Z"
    },
    "hidden": true
   },
   "outputs": [],
   "source": [
    "%%capture out\n",
    "with TemporaryDirectory() as temp_dir:\n",
    "    sakay_db = SakayDB(temp_dir)\n",
    "    shutil.copy('locations.csv', os.path.join(temp_dir, 'locations.csv'))\n",
    "    sakay_db.add_trips([\n",
    "        {'driver': 'Dailisan, Damian',\n",
    "         'pickup_datetime': '08:13:00,15-05-2022',\n",
    "         'dropoff_datetime': '08:46:00,15-05-2022',\n",
    "         'passenger_count': 2,\n",
    "         'pickup_loc_name': 'UP Campus',\n",
    "         'dropoff_loc_name': 'Legazpi Village',\n",
    "         'trip_distance': 17.6,\n",
    "         'fare_amount': 412},\n",
    "        {'driver': 'Dorosan, Michael',\n",
    "         'pickup_datetime': '14:13:00,31-12-2022',\n",
    "         'dropoff_datetime': '14:46:00,31-12-2022',\n",
    "         'passenger_count': 1,\n",
    "         'pickup_loc_name': 'Fairview',\n",
    "         'dropoff_loc_name': 'Highway Hills',\n",
    "         'trip_distance': 15.1,\n",
    "         'fare_amount': 371},\n",
    "        {'driver': 'Alis, Christian',\n",
    "         'pickup_datetime': '09:13:00,16-08-2022',\n",
    "         'dropoff_datetime': '09:46:00,16-08-2022',\n",
    "         'pickup_loc_name': 'Loyola Heights',\n",
    "         'dropoff_loc_name': 'Legazpi Village',\n",
    "         'trip_distance': 8.9,\n",
    "         'fare_amount': 235},\n",
    "        {'driver': 'Dailisan, Damian',\n",
    "         'pickup_datetime': '15:13:00,09-09-2022',\n",
    "         'dropoff_datetime': '15:46:00,09-09-2022',\n",
    "         'passenger_count': 2,\n",
    "         'pickup_loc_name': 'Pasong Putik',\n",
    "         'dropoff_loc_name': 'San Antonio',\n",
    "         'trip_distance': 31.2,\n",
    "         'fare_amount': 716},\n",
    "        {'driver': 'Dorosan, Michael',\n",
    "         'pickup_datetime': '14:13:00,31-12-2022',\n",
    "         'dropoff_datetime': '14:46:00,31-12-2022',\n",
    "         'passenger_count': 1,\n",
    "         'pickup_loc_name': 'Fairview',\n",
    "         'dropoff_loc_name': 'Highway Hills',\n",
    "         'trip_distance': 15.1,\n",
    "         'fare_amount': 371}\n",
    "    ])"
   ]
  },
  {
   "cell_type": "code",
   "execution_count": 15,
   "id": "a9230d10",
   "metadata": {
    "ExecuteTime": {
     "end_time": "2022-09-02T08:26:52.688073Z",
     "start_time": "2022-09-02T08:26:52.681338Z"
    },
    "hidden": true
   },
   "outputs": [],
   "source": [
    "assert_equal(\n",
    "    out.stdout,\n",
    "    'Warning: trip index 2 has invalid or incomplete information. '\n",
    "    'Skipping...\\n'\n",
    "    'Warning: trip index 4 is already in the database. Skipping...\\n'\n",
    ")"
   ]
  },
  {
   "cell_type": "markdown",
   "id": "db6aedb2",
   "metadata": {
    "heading_collapsed": true,
    "hidden": true
   },
   "source": [
    "## Deleting a trip in the database"
   ]
  },
  {
   "cell_type": "code",
   "execution_count": 16,
   "id": "1d210efd",
   "metadata": {
    "ExecuteTime": {
     "end_time": "2022-09-02T08:26:53.582404Z",
     "start_time": "2022-09-02T08:26:53.529243Z"
    },
    "hidden": true
   },
   "outputs": [],
   "source": [
    "with TemporaryDirectory() as temp_dir:\n",
    "    sakay_db = SakayDB(temp_dir)\n",
    "    assert_raises(SakayDBError, lambda: sakay_db.delete_trip(1))\n",
    "    shutil.copy('trips_test.csv', os.path.join(temp_dir, 'trips.csv'))\n",
    "    shutil.copy('drivers_test.csv', os.path.join(temp_dir, 'drivers.csv'))\n",
    "    sakay_db.delete_trip(1)\n",
    "    assert_raises(SakayDBError, lambda: sakay_db.delete_trip(1))"
   ]
  },
  {
   "cell_type": "markdown",
   "id": "081eea7d",
   "metadata": {
    "heading_collapsed": true,
    "hidden": true
   },
   "source": [
    "## Searching for trips in the database"
   ]
  },
  {
   "cell_type": "code",
   "execution_count": 17,
   "id": "e46317ea",
   "metadata": {
    "ExecuteTime": {
     "end_time": "2022-09-02T08:26:54.409814Z",
     "start_time": "2022-09-02T08:26:54.354654Z"
    },
    "hidden": true
   },
   "outputs": [],
   "source": [
    "with TemporaryDirectory() as temp_dir:\n",
    "    sakay_db = SakayDB(temp_dir)\n",
    "    assert_raises(SakayDBError, lambda: sakay_db.search_trips())\n",
    "    assert_equal(sakay_db.search_trips(driver_id=1), [])\n",
    "    shutil.copy('trips_test.csv', os.path.join(temp_dir, 'trips.csv'))\n",
    "    shutil.copy('drivers_test.csv', os.path.join(temp_dir, 'drivers.csv'))\n",
    "    assert_raises(SakayDBError, lambda: sakay_db.search_trips())\n",
    "\n",
    "    assert_equal(sakay_db.search_trips(driver_id=1).to_numpy().tolist(),\n",
    "                 [[1, 1, '08:13:00,15-05-2022', '08:46:00,15-05-2022', 2, 1, 2, 17.6, 412],\n",
    "                  [4, 1, '15:13:00,09-09-2022', '15:46:00,09-09-2022', 2, 6, 7, 31.2, 716]]\n",
    "                 )\n",
    "    assert_equal(sakay_db.search_trips(fare_amount=(None, 300)).to_numpy().tolist(),\n",
    "                 [[3, 3, '09:13:00,16-08-2022', '09:46:00,16-08-2022', 3, 5, 2, 8.9, 235]]\n",
    "                 )\n",
    "    assert_equal(sakay_db.search_trips(driver_id=1, fare_amount=(None, 300)).to_numpy().tolist(),\n",
    "                 [])\n",
    "    assert_equal(sakay_db.search_trips(driver_id=1, fare_amount=(200, 500)).to_numpy().tolist(),\n",
    "                 [[1, 1, '08:13:00,15-05-2022', '08:46:00,15-05-2022', 2, 1, 2, 17.6, 412]])\n",
    "\n",
    "    assert_equal(sakay_db.search_trips(\n",
    "                 pickup_datetime=('00:00:00,1-05-2022', '23:59:59,31-08-2022')\n",
    "                 ).to_numpy().tolist(),\n",
    "                 [[1, 1, '08:13:00,15-05-2022', '08:46:00,15-05-2022', 2, 1, 2, 17.6, 412],\n",
    "                  [3, 3, '09:13:00,16-08-2022', '09:46:00,16-08-2022', 3, 5, 2, 8.9, 235]]\n",
    "                 )"
   ]
  },
  {
   "cell_type": "markdown",
   "id": "6a9d5dd8",
   "metadata": {
    "heading_collapsed": true,
    "hidden": true
   },
   "source": [
    "## Exporting data"
   ]
  },
  {
   "cell_type": "code",
   "execution_count": 18,
   "id": "cdf1fb62",
   "metadata": {
    "ExecuteTime": {
     "end_time": "2022-09-02T08:26:55.199636Z",
     "start_time": "2022-09-02T08:26:55.154634Z"
    },
    "hidden": true
   },
   "outputs": [],
   "source": [
    "export_columns = ['driver_givenname', 'driver_lastname', 'pickup_datetime', 'dropoff_datetime',\n",
    "                  'passenger_count', 'pickup_loc_name', 'dropoff_loc_name',\n",
    "                  'trip_distance', 'fare_amount']\n",
    "with TemporaryDirectory() as temp_dir:\n",
    "    sakay_db = SakayDB(temp_dir)\n",
    "    df_export = sakay_db.export_data()\n",
    "    assert_equal(isinstance(df_export, pd.DataFrame), True)\n",
    "    assert_equal(\n",
    "        set(df_export.columns.tolist()),\n",
    "        set(export_columns)\n",
    "    )\n",
    "    assert_equal(len(df_export), 0)\n",
    "    shutil.copy('trips_test.csv', os.path.join(temp_dir, 'trips.csv'))\n",
    "    shutil.copy('drivers_test.csv', os.path.join(temp_dir, 'drivers.csv'))\n",
    "    shutil.copy('locations.csv', os.path.join(temp_dir, 'locations.csv'))\n",
    "    df_export = sakay_db.export_data()\n",
    "    assert_equal(isinstance(df_export, pd.DataFrame), True)\n",
    "    assert_equal(\n",
    "        set(df_export.columns.tolist()),\n",
    "        set(export_columns)\n",
    "    )\n",
    "    assert_equal(\n",
    "        df_export.loc[df_export.index[:2], export_columns].to_numpy().tolist(),\n",
    "        [['Damian', 'Dailisan', '08:13:00,15-05-2022', '08:46:00,15-05-2022', 2, 'UP Campus', 'Legazpi Village', 17.6, 412],\n",
    "         ['Michael', 'Dorosan', '14:13:00,31-12-2022', '14:46:00,31-12-2022', 1, 'Fairview', 'Highway Hills', 15.1, 371]]\n",
    "    )"
   ]
  },
  {
   "cell_type": "markdown",
   "id": "8bb91926",
   "metadata": {
    "heading_collapsed": true,
    "hidden": true
   },
   "source": [
    "## Generating statistics"
   ]
  },
  {
   "cell_type": "code",
   "execution_count": 19,
   "id": "a88b600b",
   "metadata": {
    "ExecuteTime": {
     "end_time": "2022-09-02T08:26:56.061646Z",
     "start_time": "2022-09-02T08:26:55.969876Z"
    },
    "hidden": true
   },
   "outputs": [],
   "source": [
    "with TemporaryDirectory() as temp_dir:\n",
    "    sakay_db = SakayDB(temp_dir)\n",
    "    assert_raises(SakayDBError, lambda: sakay_db.generate_statistics('Trips'))\n",
    "    assert_equal(sakay_db.generate_statistics('trip'), {})\n",
    "    assert_equal(sakay_db.generate_statistics('passenger'), {})\n",
    "    assert_equal(sakay_db.generate_statistics('driver'), {})\n",
    "    assert_equal(\n",
    "        sakay_db.generate_statistics('all'),\n",
    "        {'trip': {}, 'passenger': {}, 'driver': {}}\n",
    "    )\n",
    "    shutil.copy('trips_test2.csv', os.path.join(temp_dir, 'trips.csv'))\n",
    "    shutil.copy('drivers_test2.csv',\n",
    "                os.path.join(temp_dir, 'drivers.csv'))\n",
    "    shutil.copy('locations.csv', os.path.join(temp_dir, 'locations.csv'))\n",
    "    stats_trip = sakay_db.generate_statistics('trip')\n",
    "    assert_equal(len(stats_trip), 7)\n",
    "    assert_almost_equal(stats_trip['Friday'], 41.794117647058826)\n",
    "    assert_almost_equal(stats_trip['Sunday'], 41.714285714285715)"
   ]
  },
  {
   "cell_type": "code",
   "execution_count": 20,
   "id": "83ffc055",
   "metadata": {
    "ExecuteTime": {
     "end_time": "2022-09-02T08:26:56.758944Z",
     "start_time": "2022-09-02T08:26:56.386404Z"
    },
    "hidden": true
   },
   "outputs": [],
   "source": [
    "with TemporaryDirectory() as temp_dir:\n",
    "    sakay_db = SakayDB(temp_dir)\n",
    "    shutil.copy('trips_test2.csv', os.path.join(temp_dir, 'trips.csv'))\n",
    "    shutil.copy('drivers_test2.csv',\n",
    "                os.path.join(temp_dir, 'drivers.csv'))\n",
    "    shutil.copy('locations.csv', os.path.join(temp_dir, 'locations.csv'))\n",
    "    stats_passenger = sakay_db.generate_statistics('passenger')\n",
    "    assert_equal(len(stats_passenger), 4)\n",
    "    assert_equal(len(stats_passenger[0]), 7)\n",
    "    assert_almost_equal(\n",
    "        stats_passenger[0]['Monday'],\n",
    "        9.371428571428572\n",
    "    )\n",
    "    stats_driver = sakay_db.generate_statistics('driver')\n",
    "\n",
    "    assert_equal(len(stats_driver), 200)\n",
    "    assert_almost_equal(\n",
    "        stats_driver['Dome, Benyamin']['Saturday'],\n",
    "        1\n",
    "    )\n",
    "    stats_all = sakay_db.generate_statistics('all')\n",
    "    assert_equal(set(stats_all.keys()), {'trip', 'passenger', 'driver'})\n",
    "    assert_equal(len(stats_all['trip']), 7)\n",
    "    assert_almost_equal(stats_all['trip']['Tuesday'], 39.74285714285714)\n",
    "    assert_equal(len(stats_all['passenger']), 4)\n",
    "    assert_almost_equal(stats_all['passenger'][0]['Monday'],\n",
    "                        9.371428571428572)\n",
    "    assert_almost_equal(\n",
    "        stats_all['driver']['Dome, Benyamin']['Saturday'],\n",
    "        1\n",
    "    )\n",
    "    assert_equal(len(stats_all['driver']), 200)"
   ]
  },
  {
   "cell_type": "markdown",
   "id": "af7b36cc",
   "metadata": {
    "heading_collapsed": true,
    "hidden": true
   },
   "source": [
    "## Plotting statistics"
   ]
  },
  {
   "cell_type": "code",
   "execution_count": 21,
   "id": "2dfb09c9",
   "metadata": {
    "ExecuteTime": {
     "end_time": "2022-09-02T08:26:59.148369Z",
     "start_time": "2022-09-02T08:26:57.314471Z"
    },
    "hidden": true
   },
   "outputs": [
    {
     "data": {
      "image/png": "[encoded data removed]",
      "text/plain": [
       "<Figure size 864x576 with 1 Axes>"
      ]
     },
     "metadata": {
      "needs_background": "light"
     },
     "output_type": "display_data"
    },
    {
     "data": {
      "image/png": "[encoded data removed]",
      "text/plain": [
       "<Figure size 864x576 with 1 Axes>"
      ]
     },
     "metadata": {
      "needs_background": "light"
     },
     "output_type": "display_data"
    },
    {
     "data": {
      "image/png": "[encoded data removed]",
      "text/plain": [
       "<Figure size 576x1800 with 7 Axes>"
      ]
     },
     "metadata": {
      "needs_background": "light"
     },
     "output_type": "display_data"
    }
   ],
   "source": [
    "from matplotlib.legend import Legend\n",
    "with TemporaryDirectory() as temp_dir:\n",
    "    sakay_db = SakayDB(temp_dir)\n",
    "    shutil.copy('trips_test2.csv', os.path.join(temp_dir, 'trips.csv'))\n",
    "    shutil.copy('drivers_test2.csv',\n",
    "                os.path.join(temp_dir, 'drivers.csv'))\n",
    "    shutil.copy('locations.csv', os.path.join(temp_dir, 'locations.csv'))\n",
    "    \n",
    "    # trip tests\n",
    "    ax_trip = sakay_db.plot_statistics('trip')\n",
    "    ax_trip.get_figure().canvas.draw()\n",
    "    \n",
    "    assert_equal(ax_trip.get_title(), 'Average trips per day')\n",
    "    assert_equal(\n",
    "        [t.get_text() for t in ax_trip.get_xticklabels()],\n",
    "        ['Monday', 'Tuesday', 'Wednesday', 'Thursday', 'Friday', \n",
    "         'Saturday', 'Sunday']\n",
    "    )\n",
    "    assert_equal(\n",
    "        [t.get_text() for t in ax_trip.get_yticklabels()],\n",
    "        ['0', '5', '10', '15', '20', '25', '30', '35', '40', '45']\n",
    "    )\n",
    "    assert_equal(ax_trip.figure.get_size_inches(), (12, 8))\n",
    "    assert_equal(ax_trip.get_ylabel(), 'Ave Trips')\n",
    "    assert_equal(ax_trip.get_xlabel(), 'Day of week')\n",
    "\n",
    "    \n",
    "    # passenger tests\n",
    "    ax_passenger = sakay_db.plot_statistics('passenger')\n",
    "    ax_passenger.get_figure().canvas.draw()\n",
    "    \n",
    "    assert_equal(ax_passenger.get_ylabel(), 'Ave Trips')\n",
    "    assert_equal(ax_passenger.get_xlabel(), 'Day of week')\n",
    "    assert_equal(\n",
    "        [t for t in ax_passenger.get_yticks()],\n",
    "        [9.0, 9.25, 9.5, 9.75, 10.0, 10.25, 10.5, 10.75, 11.0, \n",
    "         11.25, 11.5]\n",
    "    )\n",
    "    \n",
    "    assert_equal(\n",
    "        ax_passenger.get_legend_handles_labels()[1],\n",
    "        ['0', '1', '2', '3']\n",
    "    )\n",
    "    assert_equal(ax_passenger.lines[0].get_label(), '0')\n",
    "    assert_equal(ax_passenger.lines[0].get_marker(), 'o')\n",
    "    assert_equal(ax_passenger.lines[0].get_ls(), '-')\n",
    "\n",
    "\n",
    "    # driver tests\n",
    "    ax_driver = sakay_db.plot_statistics('driver')\n",
    "    axes = ax_driver.get_axes()\n",
    "    \n",
    "    assert_equal(ax_driver.get_size_inches(), (8.0, 25.0))\n",
    "    assert_equal(\n",
    "        axes[0].get_position().get_points().tolist(), \n",
    "        [[0.125, 0.7879268292682927], [0.9, 0.88]]\n",
    "    )\n",
    "    assert_equal(axes[0].get_legend_handles_labels()[1][0], 'Monday')\n",
    "    assert_equal(axes[6].get_legend_handles_labels()[1][0], 'Sunday')\n",
    "    assert_equal(axes[6].get_title(), '')\n",
    "    assert_equal(axes[0].get_xticks(), axes[6].get_xticks())\n",
    "    "
   ]
  },
  {
   "cell_type": "markdown",
   "id": "dd9445b7",
   "metadata": {
    "heading_collapsed": true,
    "hidden": true
   },
   "source": [
    "## Generate OD matrix"
   ]
  },
  {
   "cell_type": "code",
   "execution_count": 22,
   "id": "a99bc156",
   "metadata": {
    "ExecuteTime": {
     "end_time": "2022-09-02T08:26:59.377711Z",
     "start_time": "2022-09-02T08:26:59.150812Z"
    },
    "hidden": true
   },
   "outputs": [],
   "source": [
    "with TemporaryDirectory() as temp_dir:\n",
    "    sakay_db = SakayDB(temp_dir)\n",
    "    assert_equal(sakay_db.generate_odmatrix().to_numpy().tolist(), [])\n",
    "    shutil.copy('trips_test2.csv', os.path.join(temp_dir, 'trips.csv'))\n",
    "    shutil.copy('drivers_test2.csv',\n",
    "                os.path.join(temp_dir, 'drivers.csv'))\n",
    "    shutil.copy('locations.csv', os.path.join(temp_dir, 'locations.csv'))\n",
    "    od_df = sakay_db.generate_odmatrix()\n",
    "    assert_equal(od_df.shape, (48, 48))\n",
    "    assert_equal(od_df.loc['Macpherson', 'UP Campus'], 1.25)\n",
    "    assert_equal(od_df.iloc[-2, -2], 0)\n",
    "    assert_equal(sakay_db\n",
    "                   .generate_odmatrix(date_range=('00:00:00,1-08-2022', '23:59:59,31-08-2022'))\n",
    "                   .shape, (48, 48))"
   ]
  }
 ],
 "metadata": {
  "kernelspec": {
   "display_name": "Python 3 (ipykernel)",
   "language": "python",
   "name": "python3"
  },
  "language_info": {
   "codemirror_mode": {
    "name": "ipython",
    "version": 3
   },
   "file_extension": ".py",
   "mimetype": "text/x-python",
   "name": "python",
   "nbconvert_exporter": "python",
   "pygments_lexer": "ipython3",
   "version": "3.9.13"
  },
  "toc": {
   "base_numbering": 1,
   "nav_menu": {},
   "number_sections": true,
   "sideBar": true,
   "skip_h1_title": false,
   "title_cell": "Table of Contents",
   "title_sidebar": "Contents",
   "toc_cell": false,
   "toc_position": {},
   "toc_section_display": true,
   "toc_window_display": false
  }
 },
 "nbformat": 4,
 "nbformat_minor": 5
}
